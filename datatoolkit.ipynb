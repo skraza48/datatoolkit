{
 "cells": [
  {
   "cell_type": "markdown",
   "id": "71aa4c98-52bd-4aa0-9da9-7c697ddf9942",
   "metadata": {},
   "source": [
    "THEORY QUESTIONS :"
   ]
  },
  {
   "cell_type": "code",
   "execution_count": null,
   "id": "40252395-cf30-49f0-9294-fac079ca5136",
   "metadata": {},
   "outputs": [],
   "source": [
    "# What is numpy and why is it widely used in python ?\n",
    "'''\n",
    "NumPy is an open-source Python library used for numerical and scientific computing. It provides support for multi-dimensional arrays and a large collection of mathematical functions to operate on these arrays efficiently.\n",
    "\n",
    "Why NumPy is Widely Used in Python\n",
    "1. Efficient Array Handling\n",
    "Core to NumPy is the ndarray object, which allows for efficient storage and manipulation of large numerical datasets.\n",
    "\n",
    "Operations on arrays are vectorized, making them faster than using Python loops.\n",
    "\n",
    "2. Performance\n",
    "NumPy is implemented in C under the hood, making operations much faster than pure Python equivalents.\n",
    "\n",
    "3. Mathematical and Statistical Functions\n",
    "It offers a wide range of linear algebra, statistics, and Fourier transform functions, which are essential in data analysis, scientific computing, and machine learning.\n",
    "\n",
    "4. Foundation for Other Libraries\n",
    "Libraries like Pandas, SciPy, TensorFlow, scikit-learn, and PyTorch are built on top of or interact heavily with NumPy.\n",
    "\n",
    "5. Broadcasting\n",
    "NumPy supports broadcasting, which allows arithmetic operations on arrays of different shapes without explicit looping.\n",
    "\n",
    "6. Interfacing with C/C++ and Fortran\n",
    "NumPy can integrate with code written in C, C++, or Fortran, making it useful for high-performance computing tasks.\n",
    "\n",
    "\n",
    "'''"
   ]
  },
  {
   "cell_type": "code",
   "execution_count": null,
   "id": "1fa3499c-7bf2-4295-8c88-a83a7dd418ca",
   "metadata": {},
   "outputs": [],
   "source": [
    "# How does brodcasting work in numpy ?\n",
    "'''\n",
    "Broadcasting in NumPy is a powerful feature that allows arrays of different shapes to be used together in arithmetic operations without explicitly reshaping or replicating data.\n",
    "\n",
    "How Broadcasting Works\n",
    "Broadcasting follows a set of rules to determine how arrays with different shapes are aligned. NumPy compares their shapes element-wise from the trailing (rightmost) dimensions and applies the following rules:\n",
    "\n",
    "\n",
    "'''"
   ]
  },
  {
   "cell_type": "code",
   "execution_count": null,
   "id": "225be36b-b227-4bc5-8b2e-737d66b239ce",
   "metadata": {},
   "outputs": [],
   "source": [
    "# What is pandas dataframe ?\n",
    "'''\n",
    "A Pandas DataFrame is a 2-dimensional labeled data structure in Python, similar to a spreadsheet or SQL table.\n",
    "It is part of the Pandas library, which is widely used for data manipulation and analysis.\n",
    "'''"
   ]
  },
  {
   "cell_type": "code",
   "execution_count": null,
   "id": "44636aa7-5284-45a1-9cec-e6b34d737504",
   "metadata": {},
   "outputs": [],
   "source": [
    "# Explain the use of the groupby() method in pandas ?\n",
    "'''\n",
    "The groupby() method in Pandas is used to split a DataFrame into groups, apply operations (like aggregation or transformation),\n",
    "and then combine the results. It’s essential for analyzing and summarizing data.\n",
    "\n",
    "This is often referred to as the Split–Apply–Combine strategy.\n",
    "'''"
   ]
  },
  {
   "cell_type": "code",
   "execution_count": null,
   "id": "4ee6bd9d-db01-4374-8835-3c0c3302931d",
   "metadata": {},
   "outputs": [],
   "source": [
    "# Why is seaborn preferred for statistical visualizations ?\n",
    "'''\n",
    "Seaborn is preferred for statistical visualizations in Python because it is built specifically to make complex plots easier and more aesthetically pleasing—especially those involving statistical relationships.\n",
    "\n",
    "Here’s why it stands out:\n",
    "\n",
    "Key Reasons Seaborn is Preferred\n",
    "1. High-Level Interface\n",
    "Seaborn provides a concise, high-level syntax for creating complex visualizations.\n",
    "\n",
    "You can make rich plots with just one line of code (e.g., regression plots, categorical plots).\n",
    "\n",
    "2. Beautiful Default Styles\n",
    "Plots look clean and professional right out of the box.\n",
    "\n",
    "It uses color palettes and styling that are designed for clarity and readability.\n",
    "\n",
    "3. Built-in Statistical Functions\n",
    "Seaborn integrates statistical functions directly:\n",
    "\n",
    "Regression lines (regplot, lmplot)\n",
    "\n",
    "Distribution fits (distplot, histplot)\n",
    "\n",
    "Confidence intervals in line plots (lineplot)\n",
    "\n",
    "Box plots, violin plots, strip plots for categorical data\n",
    "\n",
    "4. Integration with Pandas\n",
    "Seaborn works directly with Pandas DataFrames, making it easy to visualize DataFrame columns without extra preprocessing.\n",
    "\n",
    "5. Automatic Aggregation\n",
    "Seaborn automatically groups and aggregates data (e.g., using hue, col, row), which simplifies multi-variable plotting.\n",
    "\n",
    "6. Faceting for Subplots\n",
    "With just one function (FacetGrid or catplot), you can generate multiple subplots based on category data.\n",
    "\n",
    "\n",
    "'''"
   ]
  },
  {
   "cell_type": "code",
   "execution_count": null,
   "id": "cf2b9c68-508d-495f-9003-080731479c61",
   "metadata": {},
   "outputs": [],
   "source": [
    "# What are the differences between numpyarrays and python lists ?\n",
    "'''\n",
    "| Feature                  | **NumPy Arrays** (`np.ndarray`)                            | **Python Lists**                           |\n",
    "| ------------------------ | ---------------------------------------------------------- | ------------------------------------------ |\n",
    "| Data Type                | Homogeneous (all elements must be the same type)           | Heterogeneous (can mix types)              |\n",
    "| Performance              | Much faster (written in C, supports vectorization)         | Slower (Python loops, no vectorization)    |\n",
    "| Memory Efficiency        | More compact and efficient                                 | Less efficient (more overhead per element) |\n",
    "| Functionality            | Supports advanced math, linear algebra, broadcasting, etc. | Only basic operations like append, pop     |\n",
    "| Slicing and Indexing     | Supports multidimensional slicing and masking              | Limited, mostly 1D slicing                 |\n",
    "| Operations               | Element-wise operations (e.g., `a + b`)                    | Requires looping for element-wise math     |\n",
    "| Best For                 | Numerical and scientific computing                         | General-purpose use                        |\n",
    "\n",
    "'''"
   ]
  },
  {
   "cell_type": "code",
   "execution_count": null,
   "id": "1390634e-3c7d-4808-8f61-a7bda0e56f32",
   "metadata": {},
   "outputs": [],
   "source": [
    "# What is a heatmap , and when should it be used ?\n",
    "'''\n",
    "A heatmap is a data visualization technique that uses color to represent the magnitude of values in a matrix or 2D dataset.\n",
    "It's commonly used to show correlations, intensity, or density patterns in data.\n",
    "\n",
    "When Should You Use a Heatmap?\n",
    "Use a Heatmap When You Want To:\n",
    "\n",
    "1.Visualize Correlation or Relationships\n",
    "\n",
    "  -Perfect for showing how strongly variables are related in a dataset (e.g., correlation matrix).\n",
    "\n",
    "2.Analyze Distribution or Density\n",
    "\n",
    "  -Useful in showing density of events in 2D space (e.g., in spatial data or heatmaps of website clicks).\n",
    "\n",
    "3.Compare Values Across Rows/Columns\n",
    "\n",
    "  -Good for comparing metrics across multiple categories (e.g., sales per region per month).\n",
    "\n",
    "4.Highlight Anomalies or Patterns\n",
    "\n",
    "  -Easy to spot trends or outliers based on color intensity.\n",
    "\n",
    "\n",
    "'''"
   ]
  },
  {
   "cell_type": "code",
   "execution_count": null,
   "id": "54c0ada4-f73e-4216-b940-eea650ab9014",
   "metadata": {},
   "outputs": [],
   "source": [
    "# What does the term \"vectorized operation\" mean in numpy ?\n",
    "'''\n",
    "The term \"vectorized operation\" in NumPy refers to performing element-wise operations on entire arrays without using explicit Python loops.\n",
    "\n",
    "Instead of looping through array elements one-by-one, NumPy uses low-level C implementations to apply operations to entire arrays at once.\n",
    "\n",
    "This makes the operations faster, more concise, and more readable.\n",
    "'''"
   ]
  },
  {
   "cell_type": "code",
   "execution_count": null,
   "id": "c73ddc81-fda3-4219-b9f5-f4b7202cbd3e",
   "metadata": {},
   "outputs": [],
   "source": [
    "# How does matplotlib differ from plotly ?\n",
    "'''\n",
    "| Feature             | **Matplotlib**                      | **Plotly**                                        |\n",
    "| ------------------- | ----------------------------------- | ------------------------------------------------- |\n",
    "| **Type**            | Static plotting library             | Interactive plotting library                      |\n",
    "| **Interactivity**   | Minimal (static images)             | Highly interactive (zoom, hover, pan)             |\n",
    "| **Ease of Use**     | More manual customization           | More automated, user-friendly                     |\n",
    "| **Customization**   | Extremely customizable              | Customizable, but can be complex for advanced use |\n",
    "| **3D Plotting**     | Basic 3D via `mpl_toolkits.mplot3d` | Robust 3D support                                 |\n",
    "| **Web Integration** | Not designed for web                | Easily embeds in web apps (e.g., Dash, HTML)      |\n",
    "| **Performance**     | Good for small to medium data       | Slower with very large datasets                   |\n",
    "| **Output Format**   | PNG, PDF, SVG, etc.                 | HTML, JSON, PNG, interactive dashboards           |\n",
    "| **Learning Curve**  | Steeper for beginners               | Easier for modern, interactive plots              |\n",
    "| **Use Case Fit**    | Publication-quality, static plots   | Dashboards, presentations, exploratory work       |\n",
    "\n",
    "'''"
   ]
  },
  {
   "cell_type": "code",
   "execution_count": null,
   "id": "f793b685-40cc-4d29-8ad6-00d60d317bb9",
   "metadata": {},
   "outputs": [],
   "source": [
    "# What is significance of hierarchical indexing in pandas ?\n",
    "'''\n",
    "Significance of Hierarchical Indexing\n",
    "1. Represents Complex Data Relationships\n",
    "Allows you to represent nested or grouped data (like Excel pivot tables or grouped SQL queries).\n",
    "\n",
    "Great for handling time series, panel data, or grouped statistics.\n",
    "\n",
    "2. Enables Multi-level Grouping and Aggregation\n",
    "You can easily groupby() on multiple levels and then apply aggregations or transformations.\n",
    "\n",
    "3. Better Data Organization\n",
    "Makes it easier to logically separate related data categories while still keeping them in a flat table.\n",
    "\n",
    "4. Supports Advanced Slicing and Indexing\n",
    "Lets you slice, filter, and select across multiple levels using loc[] or xs() (cross-section).\n",
    "\n",
    "\n",
    "'''"
   ]
  },
  {
   "cell_type": "code",
   "execution_count": null,
   "id": "e7850c9f-f595-4ff2-b4f5-91e6dd6be381",
   "metadata": {},
   "outputs": [],
   "source": [
    "# What is the role of seaborn's pairplot() function ?\n",
    "'''\n",
    "The **seaborn.pairplot()** function is used to create a matrix of scatter plots for visualizing pairwise relationships between numeric variables in a dataset, \n",
    "along with optional distribution plots on the diagonal.\n",
    "'''"
   ]
  },
  {
   "cell_type": "code",
   "execution_count": null,
   "id": "7b6daacc-54e1-4483-ab22-b72202a5a510",
   "metadata": {},
   "outputs": [],
   "source": [
    "# What is the purpose of the describe() function in pandas ?\n",
    "'''\n",
    "Purpose of describe()\n",
    "\n",
    "To provide a statistical summary of numeric (and optionally categorical) data, including:\n",
    "\n",
    "1.Count: Number of non-null values\n",
    "\n",
    "2.Mean: Average value\n",
    "\n",
    "3.Standard deviation (std)\n",
    "\n",
    "4.Min/Max: Minimum and maximum values\n",
    "\n",
    "5.25% / 50% / 75%: Quartiles (Q1, median, Q3)\n",
    "'''"
   ]
  },
  {
   "cell_type": "code",
   "execution_count": null,
   "id": "dfabd17d-c484-4698-b50c-78f94fdf19e1",
   "metadata": {},
   "outputs": [],
   "source": [
    "# Why is handling missing data important in pandas?\n",
    "'''\n",
    "Why Is Handling Missing Data Important?\n",
    "1.  Ensures Data Quality\n",
    "Missing values may represent errors, omissions, or incomplete data collection.\n",
    "\n",
    "Ignoring them can lead to flawed insights or misinterpretation.\n",
    "\n",
    "2.  Avoids Calculation Errors\n",
    "Many Pandas operations (like .mean(), .sum(), ML algorithms) fail or return NaN if missing data is present.\n",
    "\n",
    "3.  Improves Model Performance\n",
    "Machine learning models cannot handle NaNs by default and may break or degrade in accuracy.\n",
    "\n",
    "4.  Provides Better Statistical Analysis\n",
    "Accurate handling ensures correct summary statistics, correlations, and distributions.\n",
    "'''"
   ]
  },
  {
   "cell_type": "code",
   "execution_count": null,
   "id": "a57076c9-efea-446e-8f35-65c554d32aef",
   "metadata": {},
   "outputs": [],
   "source": [
    "# What are the benefits of using plotly for data vizualization ?\n",
    "'''\n",
    "Benefits of Using Plotly for Data Visualization\n",
    "\n",
    "1. Interactive Plots\n",
    "Supports zooming, panning, hovering with tooltips, and clickable legends by default.\n",
    "\n",
    "Makes exploring complex data intuitive and engaging.\n",
    "\n",
    "2. Easy Web Integration\n",
    "Generates interactive plots that can be embedded in web apps, dashboards, and Jupyter notebooks.\n",
    "\n",
    "Works seamlessly with frameworks like Dash for building full analytics applications.\n",
    "\n",
    "3. Wide Range of Plot Types\n",
    "Supports basic charts (scatter, line, bar) and advanced visuals (3D plots, maps, contour plots, animations).\n",
    "\n",
    "Great for scientific, financial, and geographic data visualization.\n",
    "\n",
    "4. Beautiful and Customizable\n",
    "Provides polished default styles with easy customization for colors, layouts, and themes.\n",
    "\n",
    "Supports exporting to static images (PNG, JPEG, SVG) as well as interactive HTML.\n",
    "\n",
    "5. Cross-Language Support\n",
    "Available in Python, R, MATLAB, Julia, and JavaScript, facilitating multi-language workflows.\n",
    "\n",
    "6. Handles Large Datasets Well\n",
    "Optimized for smooth rendering of large datasets with efficient WebGL support.\n",
    "\n",
    "7. Built-in Animation and Streaming\n",
    "Supports animated plots and real-time data streaming, useful for live dashboards.\n",
    "\n",
    "\n",
    "'''"
   ]
  },
  {
   "cell_type": "code",
   "execution_count": null,
   "id": "11c0d0ad-33af-447f-978a-f98453d24192",
   "metadata": {},
   "outputs": [],
   "source": [
    "# How does numpy handle multidimensional arrays ?\n",
    "'''\n",
    "How NumPy Handles Multidimensional Arrays\n",
    "\n",
    "1. Array Structure\n",
    "A NumPy ndarray can have any number of dimensions (1D, 2D, 3D, …, nD).\n",
    "\n",
    "Each dimension is called an axis (or sometimes a rank).\n",
    "\n",
    "The shape of the array is a tuple indicating the size along each axis, e.g., (3, 4, 5) for a 3D array.\n",
    "\n",
    "2. Memory Layout\n",
    "NumPy arrays store data in contiguous blocks of memory.\n",
    "\n",
    "This allows fast access and efficient computation.\n",
    "\n",
    "Data is stored in row-major order (C-style) by default but can also be stored in column-major (Fortran-style).\n",
    "\n",
    "3. Indexing and Slicing\n",
    "Supports multi-axis indexing, e.g., arr[2, 3, 1] accesses the element at position (2,3,1).\n",
    "\n",
    "Supports slicing on each dimension, e.g., arr[:, 1:4, 0].\n",
    "\n",
    "4. Broadcasting\n",
    "Enables operations on arrays of different shapes by stretching smaller arrays along missing dimensions.\n",
    "\n",
    "5. Vectorized Operations\n",
    "Arithmetic and other operations are applied element-wise across all dimensions without explicit loops.\n",
    "\n",
    "\n",
    "'''"
   ]
  },
  {
   "cell_type": "code",
   "execution_count": null,
   "id": "f927c5ef-dd91-4b38-9e17-c367b072fd30",
   "metadata": {},
   "outputs": [],
   "source": [
    "# What is the role  of bokeh in data visualization ?\n",
    "'''\n",
    " Role of Bokeh in Data Visualization\n",
    "\n",
    "1. Interactive Visualizations\n",
    "Enables tools like zooming, panning, hovering, selecting, and tooltips by default.\n",
    "\n",
    "Users can interact with plots to explore data dynamically.\n",
    "\n",
    "2. Web-Ready and Embeddable\n",
    "Generates JavaScript-powered visualizations that run directly in browsers.\n",
    "\n",
    "Easy to embed in HTML pages, Flask/Django apps, or Jupyter notebooks.\n",
    "\n",
    "3. Flexible and Customizable\n",
    "Supports a wide variety of plot types: scatter, line, bar, heatmaps, geographic maps, and more.\n",
    "\n",
    "Allows fine-grained control over layout, styling, and interactivity.\n",
    "\n",
    "4. Supports Streaming and Real-Time Data\n",
    "Can update plots in real time, making it suitable for live dashboards and monitoring tools.\n",
    "\n",
    "5. Integrates with Other Tools\n",
    "Works well with Pandas, NumPy, and also integrates with server-side apps via Bokeh Server.\n",
    "\n",
    "Can be combined with tools like Flask or Django for full-stack data applications.\n",
    "\n",
    "\n",
    "'''"
   ]
  },
  {
   "cell_type": "code",
   "execution_count": null,
   "id": "7de2b8ac-ad2b-4bcc-aed6-a4fee0748c1a",
   "metadata": {},
   "outputs": [],
   "source": [
    "# Explain the difference between apply() and map() in pandas ?\n",
    "'''\n",
    "| Feature           | `apply()`                                                                 | `map()`                                                                  |\n",
    "| ----------------- | ------------------------------------------------------------------------- | ------------------------------------------------------------------------ |\n",
    "| **Applicable to** | Both **Series** and **DataFrame**                                         | Only **Series**                                                          |\n",
    "| **Purpose**       | Apply a function along an axis or element-wise (more flexible)            | Map values in a Series according to a mapping correspondence or function |\n",
    "| **Input**         | Can take any function that works on row/column/element                    | Takes a dictionary, Series, or function for element-wise mapping         |\n",
    "| **Use Case**      | Apply complex functions, aggregations, or row/column-wise transformations | Replace or map individual values in a Series                             |\n",
    "| **Returns**       | Series or DataFrame (depending on input and axis)                         | Series with mapped values                                                |\n",
    "\n",
    "'''"
   ]
  },
  {
   "cell_type": "code",
   "execution_count": null,
   "id": "1e4b58d7-b423-4777-ba51-acbd00ac10be",
   "metadata": {},
   "outputs": [],
   "source": [
    "# What are some advanced features of numpy ?\n",
    "'''\n",
    "\n",
    "Advanced Features of NumPy\n",
    "1. Broadcasting\n",
    "Enables operations on arrays of different shapes without explicitly replicating data.\n",
    "example:\n",
    "import numpy as np\n",
    "a = np.array([1, 2, 3])\n",
    "b = 2\n",
    "print(a + b)  # [3 4 5] – scalar b is \"broadcast\" across a\n",
    "\n",
    "2. Vectorization\n",
    "Eliminates the need for explicit loops by applying operations to entire arrays at once, which is much faster.\n",
    "example:\n",
    "a = np.array([1, 2, 3])\n",
    "print(a ** 2)  # Element-wise squaring\n",
    "\n",
    "3. Memory Mapping of Arrays\n",
    "Allows handling large datasets that don’t fit in RAM using memory-mapped files.\n",
    "example:\n",
    "np.memmap('data.dat', dtype='float32', mode='w+', shape=(1000,1000))\n",
    "\n",
    "4. Masked Arrays\n",
    "Useful when working with data containing missing or invalid entries.\n",
    "example:\n",
    "import numpy.ma as ma\n",
    "data = ma.array([1, 2, -999, 4], mask=[0, 0, 1, 0])\n",
    "print(data.mean())  # Ignores the masked (-999) value\n",
    "\n",
    "5. Structured Arrays\n",
    "Support for heterogeneous data types (like records or C structs).\n",
    "example:\n",
    "dt = np.dtype([('name', 'U10'), ('age', 'i4')])\n",
    "data = np.array([('Alice', 25), ('Bob', 30)], dtype=dt)\n",
    "print(data['name'])  # ['Alice' 'Bob']\n",
    "\n",
    "6. Universal Functions (ufuncs)\n",
    "Optimized, element-wise operations written in C for speed.\n",
    "example:\n",
    "a = np.array([1, 2, 3])\n",
    "print(np.exp(a))  # Applies exponential function to each element\n",
    "\n",
    "7. Advanced Indexing & Slicing\n",
    "Supports fancy indexing with arrays of indices or boolean masks.\n",
    "example:\n",
    "a = np.array([10, 20, 30, 40])\n",
    "print(a[[0, 2]])     # [10, 30]\n",
    "print(a[a > 25])     # [30, 40]\n",
    "\n",
    "8. Linear Algebra Operations\n",
    "Matrix operations, decompositions, eigenvalues, etc.\n",
    "example:\n",
    "from numpy.linalg import inv, eig\n",
    "A = np.array([[1, 2], [3, 4]])\n",
    "print(inv(A))   # Inverse of a matrix\n",
    "\n",
    "9. Fourier Transforms and Signal Processing\n",
    "example:\n",
    "from numpy.fft import fft\n",
    "signal = np.array([1, 2, 1, 0])\n",
    "print(fft(signal))\n",
    "'''"
   ]
  },
  {
   "cell_type": "code",
   "execution_count": null,
   "id": "bf4333e1-87e3-4642-8347-aaab14b61941",
   "metadata": {},
   "outputs": [],
   "source": [
    "# How does pandas simplify time series analysis ?\n",
    "'''\n",
    "Pandas simplifies time series analysis by offering powerful and intuitive tools to handle, manipulate, and analyze time-indexed data. Here's how it makes time series analysis easier:\n",
    "\n",
    "\n",
    " 1. Datetime Indexing\n",
    "Pandas allows you to use DatetimeIndex as the index of a DataFrame or Series, enabling time-aware operations.\n",
    "\n",
    "import pandas as pd\n",
    "\n",
    "dates = pd.date_range('2023-01-01', periods=5, freq='D')\n",
    "data = pd.Series([10, 15, 7, 12, 9], index=dates)\n",
    "This lets you easily slice data by time:\n",
    "\n",
    "print(data['2023-01-02':'2023-01-04'])\n",
    "\n",
    " 2. Resampling\n",
    "Convert time series to different frequencies (e.g., daily to monthly) using .resample().\n",
    "monthly_avg = data.resample('M').mean()\n",
    "\n",
    " 3. Time Shifting & Lagging\n",
    "Use .shift() or .tshift() to move data forward or backward in time.\n",
    "lagged = data.shift(1)  # Shift values down by 1 time step\n",
    "\n",
    " 4. Rolling Windows & Moving Averages\n",
    "Perform rolling statistics like moving average or rolling sum:\n",
    "rolling_avg = data.rolling(window=3).mean()\n",
    "\n",
    " 5. Time-based Grouping\n",
    "Group data by year, month, week, etc. using .groupby() with time-based index.\n",
    "# Group by month and calculate sum\n",
    "monthly_sum = data.groupby(data.index.month).sum()\n",
    "\n",
    " 6. Date Range Generation\n",
    "Easily create sequences of dates or time ranges:\n",
    "pd.date_range(start='2024-01-01', periods=10, freq='H')  # hourly range\n",
    "\n",
    " 7. Frequency Aliases\n",
    "Pandas supports many time frequency aliases:\n",
    "\n",
    "'D': daily\n",
    "\n",
    "'H': hourly\n",
    "\n",
    "'M': month end\n",
    "\n",
    "'MS': month start\n",
    "\n",
    "'W': weekly\n",
    "\n",
    "'Q': quarterly\n",
    "\n",
    "\n",
    " 8. Datetime Parsing\n",
    "Pandas can convert strings to datetime objects easily:\n",
    "pd.to_datetime(['2024-01-01', '2024-01-02'])\n",
    "\n",
    " 9. Time Zone Handling\n",
    "Pandas supports time zone–aware datetime objects:\n",
    "ts = data.tz_localize('UTC').tz_convert('US/Eastern')\n",
    "\n",
    "'''"
   ]
  },
  {
   "cell_type": "code",
   "execution_count": null,
   "id": "dddbdff2-128d-4295-ba95-34729516c190",
   "metadata": {},
   "outputs": [],
   "source": [
    "# What is the role of a pivot table in pandas ?\n",
    "'''\n",
    "The role of a pivot table in pandas is to summarize and analyze data in a flexible and organized way by transforming and aggregating it based on specified keys (rows and columns).\n",
    "It’s especially useful for exploring relationships in tabular data and quickly generating insights.\n",
    "\n",
    "1.Data summarization:\n",
    "\n",
    "Allows you to aggregate data (e.g., sum, mean, count) across multiple categories.\n",
    "\n",
    "2.Data Reshaping:\n",
    "\n",
    "Converts long-format data into a wide-format table for easier analysis and comparison.\n",
    "\n",
    "3.Group Analysis:\n",
    "\n",
    "Helps compare groups across multiple dimensions (e.g., time, category, region).\n",
    "\n",
    "4.Custom Aggregations:\n",
    "\n",
    "Supports custom functions like sum, mean, count, min, max, etc.\n",
    "'''"
   ]
  },
  {
   "cell_type": "code",
   "execution_count": null,
   "id": "b9992553-0d79-466e-83a7-833e38a85bee",
   "metadata": {},
   "outputs": [],
   "source": [
    "# Why is numpy's array slicing faster than python's list slicing ?\n",
    "'''\n",
    "NumPy's array slicing is faster than Python's list slicing due to several key differences in implementation and memory management:\n",
    "\n",
    " 1. Contiguous Memory Layout\n",
    "NumPy arrays are stored in contiguous blocks of memory, allowing for fast and efficient access using pointer arithmetic.\n",
    "\n",
    "Python lists are arrays of references (pointers to objects), so accessing elements requires additional indirection.\n",
    "\n",
    " 2. Homogeneous Data Types\n",
    "NumPy arrays contain elements of the same data type, making operations like slicing and indexing optimized at the C level.\n",
    "\n",
    "Python lists can contain mixed data types, so slicing must account for varied data structures.\n",
    "\n",
    " 3. No Copy in Slicing (View vs Copy)\n",
    "NumPy slicing returns a view (not a copy) of the original array, meaning it doesn’t allocate new memory.\n",
    "\n",
    "Python list slicing creates a full copy, which is slower and consumes more memory.\n",
    "example:\n",
    "import numpy as np\n",
    "arr = np.array([1, 2, 3, 4, 5])\n",
    "slice_view = arr[1:4]  # No new array created — just a view\n",
    "\n",
    " 4. Optimized with C (vectorized operations)\n",
    "NumPy is implemented in C, and slicing is handled via compiled C code, not interpreted Python code.\n",
    "\n",
    "Python lists are handled by the Python interpreter, which is slower by nature\n",
    "'''"
   ]
  },
  {
   "cell_type": "code",
   "execution_count": null,
   "id": "69aa704c-20d4-41d4-8895-0a6d1b6583d1",
   "metadata": {},
   "outputs": [],
   "source": [
    "# What are some common use cases for seaborn ?\n",
    "'''\n",
    "Here are some common use cases for Seaborn:\n",
    "\n",
    " 1. Exploratory Data Analysis (EDA)\n",
    "Quickly visualize distributions, relationships, and outliers in datasets.\n",
    "\n",
    "Identify patterns, trends, and correlations.\n",
    "\n",
    "Examples:\n",
    "import seaborn as sns\n",
    "sns.histplot(data=df, x='age')       # Distribution\n",
    "sns.boxplot(data=df, x='gender', y='income')  # Grouped summary\n",
    "\n",
    " 2. Visualizing Relationships Between Variables\n",
    "Use scatter plots, line plots, and regression plots to explore correlations.\n",
    "\n",
    "Examples:\n",
    "sns.scatterplot(data=df, x='height', y='weight')\n",
    "sns.regplot(data=df, x='hours_studied', y='score')  # With regression line\n",
    "\n",
    " 3. Statistical Visualization\n",
    "Visualizations that include statistical estimation like confidence intervals.\n",
    "\n",
    "Examples:\n",
    "sns.barplot(data=df, x='category', y='sales')  # Shows mean with CI\n",
    "sns.pointplot(data=df, x='day', y='total_bill', hue='sex')\n",
    "\n",
    " 4. Categorical Data Visualization\n",
    "Helps compare values across categories using bar, count, violin, or strip plots.\n",
    "\n",
    "Examples:\n",
    "sns.countplot(data=df, x='department')         # Count per category\n",
    "sns.violinplot(data=df, x='gender', y='salary')  # Distribution + KDE\n",
    "\n",
    " 5. Heatmaps and Correlation Matrices\n",
    "For showing relationships between multiple variables or summarizing tabular data.\n",
    "\n",
    "Examples:\n",
    "corr = df.corr()\n",
    "sns.heatmap(corr, annot=True, cmap='coolwarm')  # Correlation heatmap\n",
    "\n",
    " 6. Multi-plot Grids (Faceting)\n",
    "Create grid-based plots using FacetGrid or pairplot.\n",
    "\n",
    "Examples:\n",
    "sns.pairplot(df, hue='species')  # Pairwise relationships\n",
    "g = sns.FacetGrid(df, col='gender', row='smoker')\n",
    "g.map(sns.histplot, 'age')\n",
    "\n",
    " 7. Regression Analysis\n",
    "Visualize linear and non-linear regressions and residuals.\n",
    "\n",
    "Examples:\n",
    "sns.lmplot(data=df, x='experience', y='salary')\n",
    "\n",
    " 8. Time Series Visualization\n",
    "While not as specialized as other libraries, Seaborn can plot time series with line plots.\n",
    "\n",
    "Example:\n",
    "sns.lineplot(data=df, x='date', y='sales')\n",
    "'''"
   ]
  },
  {
   "cell_type": "markdown",
   "id": "45cadf84-a2b7-44ed-bc40-4409ea1e837f",
   "metadata": {},
   "source": [
    "PRACTICAL QUESTIONS :"
   ]
  },
  {
   "cell_type": "code",
   "execution_count": 1,
   "id": "77d3053a-cc84-4076-8eaf-c5815adc5235",
   "metadata": {},
   "outputs": [
    {
     "name": "stdout",
     "output_type": "stream",
     "text": [
      "2D Array:\n",
      " [[1 2 3]\n",
      " [4 5 6]\n",
      " [7 8 9]]\n",
      "Sum of each row: [ 6 15 24]\n"
     ]
    }
   ],
   "source": [
    "# How do you create a 2d numpy array and calcuted the sum of each row ?\n",
    "import numpy as np\n",
    "\n",
    "# Step 1: Create a 2D NumPy array\n",
    "array_2d = np.array([\n",
    "    [1, 2, 3],\n",
    "    [4, 5, 6],\n",
    "    [7, 8, 9]\n",
    "])\n",
    "\n",
    "# Step 2: Calculate the sum of each row\n",
    "row_sums = np.sum(array_2d, axis=1)\n",
    "\n",
    "# Step 3: Print the results\n",
    "print(\"2D Array:\\n\", array_2d)\n",
    "print(\"Sum of each row:\", row_sums)\n"
   ]
  },
  {
   "cell_type": "code",
   "execution_count": 3,
   "id": "496892cc-68a2-408e-8d7d-ac6ac29c1969",
   "metadata": {},
   "outputs": [
    {
     "name": "stdout",
     "output_type": "stream",
     "text": [
      "Mean Salary: 57500.0\n"
     ]
    }
   ],
   "source": [
    "# Write a pandas script to find the mean of a specific column in a dataframe ?\n",
    "import pandas as pd\n",
    "\n",
    "# Sample DataFrame\n",
    "data = {\n",
    "    'Name': ['Alice', 'Bob', 'Charlie', 'David'],\n",
    "    'Age': [25, 30, 35, 40],\n",
    "    'Salary': [50000, 60000, 55000, 65000]\n",
    "}\n",
    "\n",
    "df = pd.DataFrame(data)\n",
    "\n",
    "# Calculate the mean of the 'Salary' column\n",
    "mean_salary = df['Salary'].mean()\n",
    "\n",
    "# Output the result\n",
    "print(\"Mean Salary:\", mean_salary)\n"
   ]
  },
  {
   "cell_type": "code",
   "execution_count": 8,
   "id": "5c440085-2aea-41cd-bd70-f7a963076f72",
   "metadata": {},
   "outputs": [
    {
     "data": {
      "image/png": "[encoded data removed]",
      "text/plain": [
       "<Figure size 640x480 with 1 Axes>"
      ]
     },
     "metadata": {},
     "output_type": "display_data"
    }
   ],
   "source": [
    "# Create a scatter plot using matplotlib ?\n",
    "import matplotlib.pyplot as plt\n",
    "\n",
    "# Sample data\n",
    "x = [1, 2, 3, 4, 5]\n",
    "y = [2, 4, 1, 3, 7]\n",
    "\n",
    "# Create a scatter plot\n",
    "plt.scatter(x, y, color='blue', marker='o', label='Data Points')\n",
    "\n",
    "# Add labels and title\n",
    "plt.xlabel('X Axis')\n",
    "plt.ylabel('Y Axis')\n",
    "plt.title('Sample Scatter Plot')\n",
    "plt.legend()\n",
    "\n",
    "# Show the plot\n",
    "plt.show()\n"
   ]
  },
  {
   "cell_type": "code",
   "execution_count": 10,
   "id": "a9c5b821-4e6f-42d3-be02-18e582756266",
   "metadata": {},
   "outputs": [
    {
     "data": {
      "image/png": "[encoded data removed]",
      "text/plain": [
       "<Figure size 800x600 with 2 Axes>"
      ]
     },
     "metadata": {},
     "output_type": "display_data"
    }
   ],
   "source": [
    "# How do you calculate the correlation matrix using seaborn and visualize it with a heatmap ? \n",
    "import pandas as pd\n",
    "import seaborn as sns\n",
    "import matplotlib.pyplot as plt\n",
    "\n",
    "# Sample DataFrame\n",
    "data = {\n",
    "    'Math': [80, 88, 72, 88, 86],\n",
    "    'Science': [89, 64, 95, 71, 82],\n",
    "    'English': [70, 95, 78, 70, 90],\n",
    "    'History': [80, 79, 68, 75, 83]\n",
    "}\n",
    "df = pd.DataFrame(data)\n",
    "\n",
    "# Step 1: Calculate the correlation matrix\n",
    "corr_matrix = df.corr()\n",
    "\n",
    "# Step 2: Visualize using a heatmap\n",
    "plt.figure(figsize=(8, 6))\n",
    "sns.heatmap(corr_matrix, annot=True, cmap='coolwarm', linewidths=0.5)\n",
    "plt.title('Correlation Matrix Heatmap')\n",
    "plt.show()\n",
    "\n"
   ]
  },
  {
   "cell_type": "code",
   "execution_count": 12,
   "id": "457b8f7d-8c79-41dc-b4a7-80d0c7ccf804",
   "metadata": {},
   "outputs": [
    {
     "data": {
      "application/vnd.plotly.v1+json": {
       "config": {
        "plotlyServerURL": "https://plot.ly"
       },
       "data": [
        {
         "alignmentgroup": "True",
         "hovertemplate": "Fruits=%{x}<br>Quantity=%{y}<extra></extra>",
         "legendgroup": "",
         "marker": {
          "color": "#636efa",
          "pattern": {
           "shape": ""
          }
         },
         "name": "",
         "offsetgroup": "",
         "orientation": "v",
         "showlegend": false,
         "textposition": "auto",
         "type": "bar",
         "x": [
          "Guava",
          "Bananas",
          "Mango",
          "Apple"
         ],
         "xaxis": "x",
         "y": [
          30,
          45,
          15,
          10
         ],
         "yaxis": "y"
        }
       ],
       "layout": {
        "autosize": true,
        "barmode": "relative",
        "legend": {
         "tracegroupgap": 0
        },
        "template": {
         "data": {
          "bar": [
           {
            "error_x": {
             "color": "#2a3f5f"
            },
            "error_y": {
             "color": "#2a3f5f"
            },
            "marker": {
             "line": {
              "color": "#E5ECF6",
              "width": 0.5
             },
             "pattern": {
              "fillmode": "overlay",
              "size": 10,
              "solidity": 0.2
             }
            },
            "type": "bar"
           }
          ],
          "barpolar": [
           {
            "marker": {
             "line": {
              "color": "#E5ECF6",
              "width": 0.5
             },
             "pattern": {
              "fillmode": "overlay",
              "size": 10,
              "solidity": 0.2
             }
            },
            "type": "barpolar"
           }
          ],
          "carpet": [
           {
            "aaxis": {
             "endlinecolor": "#2a3f5f",
             "gridcolor": "white",
             "linecolor": "white",
             "minorgridcolor": "white",
             "startlinecolor": "#2a3f5f"
            },
            "baxis": {
             "endlinecolor": "#2a3f5f",
             "gridcolor": "white",
             "linecolor": "white",
             "minorgridcolor": "white",
             "startlinecolor": "#2a3f5f"
            },
            "type": "carpet"
           }
          ],
          "choropleth": [
           {
            "colorbar": {
             "outlinewidth": 0,
             "ticks": ""
            },
            "type": "choropleth"
           }
          ],
          "contour": [
           {
            "colorbar": {
             "outlinewidth": 0,
             "ticks": ""
            },
            "colorscale": [
             [
              0,
              "#0d0887"
             ],
             [
              0.1111111111111111,
              "#46039f"
             ],
             [
              0.2222222222222222,
              "#7201a8"
             ],
             [
              0.3333333333333333,
              "#9c179e"
             ],
             [
              0.4444444444444444,
              "#bd3786"
             ],
             [
              0.5555555555555556,
              "#d8576b"
             ],
             [
              0.6666666666666666,
              "#ed7953"
             ],
             [
              0.7777777777777778,
              "#fb9f3a"
             ],
             [
              0.8888888888888888,
              "#fdca26"
             ],
             [
              1,
              "#f0f921"
             ]
            ],
            "type": "contour"
           }
          ],
          "contourcarpet": [
           {
            "colorbar": {
             "outlinewidth": 0,
             "ticks": ""
            },
            "type": "contourcarpet"
           }
          ],
          "heatmap": [
           {
            "colorbar": {
             "outlinewidth": 0,
             "ticks": ""
            },
            "colorscale": [
             [
              0,
              "#0d0887"
             ],
             [
              0.1111111111111111,
              "#46039f"
             ],
             [
              0.2222222222222222,
              "#7201a8"
             ],
             [
              0.3333333333333333,
              "#9c179e"
             ],
             [
              0.4444444444444444,
              "#bd3786"
             ],
             [
              0.5555555555555556,
              "#d8576b"
             ],
             [
              0.6666666666666666,
              "#ed7953"
             ],
             [
              0.7777777777777778,
              "#fb9f3a"
             ],
             [
              0.8888888888888888,
              "#fdca26"
             ],
             [
              1,
              "#f0f921"
             ]
            ],
            "type": "heatmap"
           }
          ],
          "heatmapgl": [
           {
            "colorbar": {
             "outlinewidth": 0,
             "ticks": ""
            },
            "colorscale": [
             [
              0,
              "#0d0887"
             ],
             [
              0.1111111111111111,
              "#46039f"
             ],
             [
              0.2222222222222222,
              "#7201a8"
             ],
             [
              0.3333333333333333,
              "#9c179e"
             ],
             [
              0.4444444444444444,
              "#bd3786"
             ],
             [
              0.5555555555555556,
              "#d8576b"
             ],
             [
              0.6666666666666666,
              "#ed7953"
             ],
             [
              0.7777777777777778,
              "#fb9f3a"
             ],
             [
              0.8888888888888888,
              "#fdca26"
             ],
             [
              1,
              "#f0f921"
             ]
            ],
            "type": "heatmapgl"
           }
          ],
          "histogram": [
           {
            "marker": {
             "pattern": {
              "fillmode": "overlay",
              "size": 10,
              "solidity": 0.2
             }
            },
            "type": "histogram"
           }
          ],
          "histogram2d": [
           {
            "colorbar": {
             "outlinewidth": 0,
             "ticks": ""
            },
            "colorscale": [
             [
              0,
              "#0d0887"
             ],
             [
              0.1111111111111111,
              "#46039f"
             ],
             [
              0.2222222222222222,
              "#7201a8"
             ],
             [
              0.3333333333333333,
              "#9c179e"
             ],
             [
              0.4444444444444444,
              "#bd3786"
             ],
             [
              0.5555555555555556,
              "#d8576b"
             ],
             [
              0.6666666666666666,
              "#ed7953"
             ],
             [
              0.7777777777777778,
              "#fb9f3a"
             ],
             [
              0.8888888888888888,
              "#fdca26"
             ],
             [
              1,
              "#f0f921"
             ]
            ],
            "type": "histogram2d"
           }
          ],
          "histogram2dcontour": [
           {
            "colorbar": {
             "outlinewidth": 0,
             "ticks": ""
            },
            "colorscale": [
             [
              0,
              "#0d0887"
             ],
             [
              0.1111111111111111,
              "#46039f"
             ],
             [
              0.2222222222222222,
              "#7201a8"
             ],
             [
              0.3333333333333333,
              "#9c179e"
             ],
             [
              0.4444444444444444,
              "#bd3786"
             ],
             [
              0.5555555555555556,
              "#d8576b"
             ],
             [
              0.6666666666666666,
              "#ed7953"
             ],
             [
              0.7777777777777778,
              "#fb9f3a"
             ],
             [
              0.8888888888888888,
              "#fdca26"
             ],
             [
              1,
              "#f0f921"
             ]
            ],
            "type": "histogram2dcontour"
           }
          ],
          "mesh3d": [
           {
            "colorbar": {
             "outlinewidth": 0,
             "ticks": ""
            },
            "type": "mesh3d"
           }
          ],
          "parcoords": [
           {
            "line": {
             "colorbar": {
              "outlinewidth": 0,
              "ticks": ""
             }
            },
            "type": "parcoords"
           }
          ],
          "pie": [
           {
            "automargin": true,
            "type": "pie"
           }
          ],
          "scatter": [
           {
            "fillpattern": {
             "fillmode": "overlay",
             "size": 10,
             "solidity": 0.2
            },
            "type": "scatter"
           }
          ],
          "scatter3d": [
           {
            "line": {
             "colorbar": {
              "outlinewidth": 0,
              "ticks": ""
             }
            },
            "marker": {
             "colorbar": {
              "outlinewidth": 0,
              "ticks": ""
             }
            },
            "type": "scatter3d"
           }
          ],
          "scattercarpet": [
           {
            "marker": {
             "colorbar": {
              "outlinewidth": 0,
              "ticks": ""
             }
            },
            "type": "scattercarpet"
           }
          ],
          "scattergeo": [
           {
            "marker": {
             "colorbar": {
              "outlinewidth": 0,
              "ticks": ""
             }
            },
            "type": "scattergeo"
           }
          ],
          "scattergl": [
           {
            "marker": {
             "colorbar": {
              "outlinewidth": 0,
              "ticks": ""
             }
            },
            "type": "scattergl"
           }
          ],
          "scattermapbox": [
           {
            "marker": {
             "colorbar": {
              "outlinewidth": 0,
              "ticks": ""
             }
            },
            "type": "scattermapbox"
           }
          ],
          "scatterpolar": [
           {
            "marker": {
             "colorbar": {
              "outlinewidth": 0,
              "ticks": ""
             }
            },
            "type": "scatterpolar"
           }
          ],
          "scatterpolargl": [
           {
            "marker": {
             "colorbar": {
              "outlinewidth": 0,
              "ticks": ""
             }
            },
            "type": "scatterpolargl"
           }
          ],
          "scatterternary": [
           {
            "marker": {
             "colorbar": {
              "outlinewidth": 0,
              "ticks": ""
             }
            },
            "type": "scatterternary"
           }
          ],
          "surface": [
           {
            "colorbar": {
             "outlinewidth": 0,
             "ticks": ""
            },
            "colorscale": [
             [
              0,
              "#0d0887"
             ],
             [
              0.1111111111111111,
              "#46039f"
             ],
             [
              0.2222222222222222,
              "#7201a8"
             ],
             [
              0.3333333333333333,
              "#9c179e"
             ],
             [
              0.4444444444444444,
              "#bd3786"
             ],
             [
              0.5555555555555556,
              "#d8576b"
             ],
             [
              0.6666666666666666,
              "#ed7953"
             ],
             [
              0.7777777777777778,
              "#fb9f3a"
             ],
             [
              0.8888888888888888,
              "#fdca26"
             ],
             [
              1,
              "#f0f921"
             ]
            ],
            "type": "surface"
           }
          ],
          "table": [
           {
            "cells": {
             "fill": {
              "color": "#EBF0F8"
             },
             "line": {
              "color": "white"
             }
            },
            "header": {
             "fill": {
              "color": "#C8D4E3"
             },
             "line": {
              "color": "white"
             }
            },
            "type": "table"
           }
          ]
         },
         "layout": {
          "annotationdefaults": {
           "arrowcolor": "#2a3f5f",
           "arrowhead": 0,
           "arrowwidth": 1
          },
          "autotypenumbers": "strict",
          "coloraxis": {
           "colorbar": {
            "outlinewidth": 0,
            "ticks": ""
           }
          },
          "colorscale": {
           "diverging": [
            [
             0,
             "#8e0152"
            ],
            [
             0.1,
             "#c51b7d"
            ],
            [
             0.2,
             "#de77ae"
            ],
            [
             0.3,
             "#f1b6da"
            ],
            [
             0.4,
             "#fde0ef"
            ],
            [
             0.5,
             "#f7f7f7"
            ],
            [
             0.6,
             "#e6f5d0"
            ],
            [
             0.7,
             "#b8e186"
            ],
            [
             0.8,
             "#7fbc41"
            ],
            [
             0.9,
             "#4d9221"
            ],
            [
             1,
             "#276419"
            ]
           ],
           "sequential": [
            [
             0,
             "#0d0887"
            ],
            [
             0.1111111111111111,
             "#46039f"
            ],
            [
             0.2222222222222222,
             "#7201a8"
            ],
            [
             0.3333333333333333,
             "#9c179e"
            ],
            [
             0.4444444444444444,
             "#bd3786"
            ],
            [
             0.5555555555555556,
             "#d8576b"
            ],
            [
             0.6666666666666666,
             "#ed7953"
            ],
            [
             0.7777777777777778,
             "#fb9f3a"
            ],
            [
             0.8888888888888888,
             "#fdca26"
            ],
            [
             1,
             "#f0f921"
            ]
           ],
           "sequentialminus": [
            [
             0,
             "#0d0887"
            ],
            [
             0.1111111111111111,
             "#46039f"
            ],
            [
             0.2222222222222222,
             "#7201a8"
            ],
            [
             0.3333333333333333,
             "#9c179e"
            ],
            [
             0.4444444444444444,
             "#bd3786"
            ],
            [
             0.5555555555555556,
             "#d8576b"
            ],
            [
             0.6666666666666666,
             "#ed7953"
            ],
            [
             0.7777777777777778,
             "#fb9f3a"
            ],
            [
             0.8888888888888888,
             "#fdca26"
            ],
            [
             1,
             "#f0f921"
            ]
           ]
          },
          "colorway": [
           "#636efa",
           "#EF553B",
           "#00cc96",
           "#ab63fa",
           "#FFA15A",
           "#19d3f3",
           "#FF6692",
           "#B6E880",
           "#FF97FF",
           "#FECB52"
          ],
          "font": {
           "color": "#2a3f5f"
          },
          "geo": {
           "bgcolor": "white",
           "lakecolor": "white",
           "landcolor": "#E5ECF6",
           "showlakes": true,
           "showland": true,
           "subunitcolor": "white"
          },
          "hoverlabel": {
           "align": "left"
          },
          "hovermode": "closest",
          "mapbox": {
           "style": "light"
          },
          "paper_bgcolor": "white",
          "plot_bgcolor": "#E5ECF6",
          "polar": {
           "angularaxis": {
            "gridcolor": "white",
            "linecolor": "white",
            "ticks": ""
           },
           "bgcolor": "#E5ECF6",
           "radialaxis": {
            "gridcolor": "white",
            "linecolor": "white",
            "ticks": ""
           }
          },
          "scene": {
           "xaxis": {
            "backgroundcolor": "#E5ECF6",
            "gridcolor": "white",
            "gridwidth": 2,
            "linecolor": "white",
            "showbackground": true,
            "ticks": "",
            "zerolinecolor": "white"
           },
           "yaxis": {
            "backgroundcolor": "#E5ECF6",
            "gridcolor": "white",
            "gridwidth": 2,
            "linecolor": "white",
            "showbackground": true,
            "ticks": "",
            "zerolinecolor": "white"
           },
           "zaxis": {
            "backgroundcolor": "#E5ECF6",
            "gridcolor": "white",
            "gridwidth": 2,
            "linecolor": "white",
            "showbackground": true,
            "ticks": "",
            "zerolinecolor": "white"
           }
          },
          "shapedefaults": {
           "line": {
            "color": "#2a3f5f"
           }
          },
          "ternary": {
           "aaxis": {
            "gridcolor": "white",
            "linecolor": "white",
            "ticks": ""
           },
           "baxis": {
            "gridcolor": "white",
            "linecolor": "white",
            "ticks": ""
           },
           "bgcolor": "#E5ECF6",
           "caxis": {
            "gridcolor": "white",
            "linecolor": "white",
            "ticks": ""
           }
          },
          "title": {
           "x": 0.05
          },
          "xaxis": {
           "automargin": true,
           "gridcolor": "white",
           "linecolor": "white",
           "ticks": "",
           "title": {
            "standoff": 15
           },
           "zerolinecolor": "white",
           "zerolinewidth": 2
          },
          "yaxis": {
           "automargin": true,
           "gridcolor": "white",
           "linecolor": "white",
           "ticks": "",
           "title": {
            "standoff": 15
           },
           "zerolinecolor": "white",
           "zerolinewidth": 2
          }
         }
        },
        "title": {
         "text": "Fruit Quantity Bar Plot"
        },
        "xaxis": {
         "anchor": "y",
         "autorange": true,
         "domain": [
          0,
          1
         ],
         "range": [
          -0.5,
          3.5
         ],
         "title": {
          "text": "Fruits"
         },
         "type": "category"
        },
        "yaxis": {
         "anchor": "x",
         "autorange": true,
         "domain": [
          0,
          1
         ],
         "range": [
          0,
          47.368421052631575
         ],
         "title": {
          "text": "Quantity"
         },
         "type": "linear"
        }
       }
      },
      "image/png": "[encoded data removed]",
      "text/html": [
       "<div>                            <div id=\"1a06c665-40f6-413c-8737-5650984bbc9e\" class=\"plotly-graph-div\" style=\"height:525px; width:100%;\"></div>            <script type=\"text/javascript\">                require([\"plotly\"], function(Plotly) {                    window.PLOTLYENV=window.PLOTLYENV || {};                                    if (document.getElementById(\"1a06c665-40f6-413c-8737-5650984bbc9e\")) {                    Plotly.newPlot(                        \"1a06c665-40f6-413c-8737-5650984bbc9e\",                        [{\"alignmentgroup\":\"True\",\"hovertemplate\":\"Fruits=%{x}\\u003cbr\\u003eQuantity=%{y}\\u003cextra\\u003e\\u003c\\u002fextra\\u003e\",\"legendgroup\":\"\",\"marker\":{\"color\":\"#636efa\",\"pattern\":{\"shape\":\"\"}},\"name\":\"\",\"offsetgroup\":\"\",\"orientation\":\"v\",\"showlegend\":false,\"textposition\":\"auto\",\"x\":[\"Guava\",\"Bananas\",\"Mango\",\"Apple\"],\"xaxis\":\"x\",\"y\":[30,45,15,10],\"yaxis\":\"y\",\"type\":\"bar\"}],                        {\"template\":{\"data\":{\"histogram2dcontour\":[{\"type\":\"histogram2dcontour\",\"colorbar\":{\"outlinewidth\":0,\"ticks\":\"\"},\"colorscale\":[[0.0,\"#0d0887\"],[0.1111111111111111,\"#46039f\"],[0.2222222222222222,\"#7201a8\"],[0.3333333333333333,\"#9c179e\"],[0.4444444444444444,\"#bd3786\"],[0.5555555555555556,\"#d8576b\"],[0.6666666666666666,\"#ed7953\"],[0.7777777777777778,\"#fb9f3a\"],[0.8888888888888888,\"#fdca26\"],[1.0,\"#f0f921\"]]}],\"choropleth\":[{\"type\":\"choropleth\",\"colorbar\":{\"outlinewidth\":0,\"ticks\":\"\"}}],\"histogram2d\":[{\"type\":\"histogram2d\",\"colorbar\":{\"outlinewidth\":0,\"ticks\":\"\"},\"colorscale\":[[0.0,\"#0d0887\"],[0.1111111111111111,\"#46039f\"],[0.2222222222222222,\"#7201a8\"],[0.3333333333333333,\"#9c179e\"],[0.4444444444444444,\"#bd3786\"],[0.5555555555555556,\"#d8576b\"],[0.6666666666666666,\"#ed7953\"],[0.7777777777777778,\"#fb9f3a\"],[0.8888888888888888,\"#fdca26\"],[1.0,\"#f0f921\"]]}],\"heatmap\":[{\"type\":\"heatmap\",\"colorbar\":{\"outlinewidth\":0,\"ticks\":\"\"},\"colorscale\":[[0.0,\"#0d0887\"],[0.1111111111111111,\"#46039f\"],[0.2222222222222222,\"#7201a8\"],[0.3333333333333333,\"#9c179e\"],[0.4444444444444444,\"#bd3786\"],[0.5555555555555556,\"#d8576b\"],[0.6666666666666666,\"#ed7953\"],[0.7777777777777778,\"#fb9f3a\"],[0.8888888888888888,\"#fdca26\"],[1.0,\"#f0f921\"]]}],\"heatmapgl\":[{\"type\":\"heatmapgl\",\"colorbar\":{\"outlinewidth\":0,\"ticks\":\"\"},\"colorscale\":[[0.0,\"#0d0887\"],[0.1111111111111111,\"#46039f\"],[0.2222222222222222,\"#7201a8\"],[0.3333333333333333,\"#9c179e\"],[0.4444444444444444,\"#bd3786\"],[0.5555555555555556,\"#d8576b\"],[0.6666666666666666,\"#ed7953\"],[0.7777777777777778,\"#fb9f3a\"],[0.8888888888888888,\"#fdca26\"],[1.0,\"#f0f921\"]]}],\"contourcarpet\":[{\"type\":\"contourcarpet\",\"colorbar\":{\"outlinewidth\":0,\"ticks\":\"\"}}],\"contour\":[{\"type\":\"contour\",\"colorbar\":{\"outlinewidth\":0,\"ticks\":\"\"},\"colorscale\":[[0.0,\"#0d0887\"],[0.1111111111111111,\"#46039f\"],[0.2222222222222222,\"#7201a8\"],[0.3333333333333333,\"#9c179e\"],[0.4444444444444444,\"#bd3786\"],[0.5555555555555556,\"#d8576b\"],[0.6666666666666666,\"#ed7953\"],[0.7777777777777778,\"#fb9f3a\"],[0.8888888888888888,\"#fdca26\"],[1.0,\"#f0f921\"]]}],\"surface\":[{\"type\":\"surface\",\"colorbar\":{\"outlinewidth\":0,\"ticks\":\"\"},\"colorscale\":[[0.0,\"#0d0887\"],[0.1111111111111111,\"#46039f\"],[0.2222222222222222,\"#7201a8\"],[0.3333333333333333,\"#9c179e\"],[0.4444444444444444,\"#bd3786\"],[0.5555555555555556,\"#d8576b\"],[0.6666666666666666,\"#ed7953\"],[0.7777777777777778,\"#fb9f3a\"],[0.8888888888888888,\"#fdca26\"],[1.0,\"#f0f921\"]]}],\"mesh3d\":[{\"type\":\"mesh3d\",\"colorbar\":{\"outlinewidth\":0,\"ticks\":\"\"}}],\"scatter\":[{\"fillpattern\":{\"fillmode\":\"overlay\",\"size\":10,\"solidity\":0.2},\"type\":\"scatter\"}],\"parcoords\":[{\"type\":\"parcoords\",\"line\":{\"colorbar\":{\"outlinewidth\":0,\"ticks\":\"\"}}}],\"scatterpolargl\":[{\"type\":\"scatterpolargl\",\"marker\":{\"colorbar\":{\"outlinewidth\":0,\"ticks\":\"\"}}}],\"bar\":[{\"error_x\":{\"color\":\"#2a3f5f\"},\"error_y\":{\"color\":\"#2a3f5f\"},\"marker\":{\"line\":{\"color\":\"#E5ECF6\",\"width\":0.5},\"pattern\":{\"fillmode\":\"overlay\",\"size\":10,\"solidity\":0.2}},\"type\":\"bar\"}],\"scattergeo\":[{\"type\":\"scattergeo\",\"marker\":{\"colorbar\":{\"outlinewidth\":0,\"ticks\":\"\"}}}],\"scatterpolar\":[{\"type\":\"scatterpolar\",\"marker\":{\"colorbar\":{\"outlinewidth\":0,\"ticks\":\"\"}}}],\"histogram\":[{\"marker\":{\"pattern\":{\"fillmode\":\"overlay\",\"size\":10,\"solidity\":0.2}},\"type\":\"histogram\"}],\"scattergl\":[{\"type\":\"scattergl\",\"marker\":{\"colorbar\":{\"outlinewidth\":0,\"ticks\":\"\"}}}],\"scatter3d\":[{\"type\":\"scatter3d\",\"line\":{\"colorbar\":{\"outlinewidth\":0,\"ticks\":\"\"}},\"marker\":{\"colorbar\":{\"outlinewidth\":0,\"ticks\":\"\"}}}],\"scattermapbox\":[{\"type\":\"scattermapbox\",\"marker\":{\"colorbar\":{\"outlinewidth\":0,\"ticks\":\"\"}}}],\"scatterternary\":[{\"type\":\"scatterternary\",\"marker\":{\"colorbar\":{\"outlinewidth\":0,\"ticks\":\"\"}}}],\"scattercarpet\":[{\"type\":\"scattercarpet\",\"marker\":{\"colorbar\":{\"outlinewidth\":0,\"ticks\":\"\"}}}],\"carpet\":[{\"aaxis\":{\"endlinecolor\":\"#2a3f5f\",\"gridcolor\":\"white\",\"linecolor\":\"white\",\"minorgridcolor\":\"white\",\"startlinecolor\":\"#2a3f5f\"},\"baxis\":{\"endlinecolor\":\"#2a3f5f\",\"gridcolor\":\"white\",\"linecolor\":\"white\",\"minorgridcolor\":\"white\",\"startlinecolor\":\"#2a3f5f\"},\"type\":\"carpet\"}],\"table\":[{\"cells\":{\"fill\":{\"color\":\"#EBF0F8\"},\"line\":{\"color\":\"white\"}},\"header\":{\"fill\":{\"color\":\"#C8D4E3\"},\"line\":{\"color\":\"white\"}},\"type\":\"table\"}],\"barpolar\":[{\"marker\":{\"line\":{\"color\":\"#E5ECF6\",\"width\":0.5},\"pattern\":{\"fillmode\":\"overlay\",\"size\":10,\"solidity\":0.2}},\"type\":\"barpolar\"}],\"pie\":[{\"automargin\":true,\"type\":\"pie\"}]},\"layout\":{\"autotypenumbers\":\"strict\",\"colorway\":[\"#636efa\",\"#EF553B\",\"#00cc96\",\"#ab63fa\",\"#FFA15A\",\"#19d3f3\",\"#FF6692\",\"#B6E880\",\"#FF97FF\",\"#FECB52\"],\"font\":{\"color\":\"#2a3f5f\"},\"hovermode\":\"closest\",\"hoverlabel\":{\"align\":\"left\"},\"paper_bgcolor\":\"white\",\"plot_bgcolor\":\"#E5ECF6\",\"polar\":{\"bgcolor\":\"#E5ECF6\",\"angularaxis\":{\"gridcolor\":\"white\",\"linecolor\":\"white\",\"ticks\":\"\"},\"radialaxis\":{\"gridcolor\":\"white\",\"linecolor\":\"white\",\"ticks\":\"\"}},\"ternary\":{\"bgcolor\":\"#E5ECF6\",\"aaxis\":{\"gridcolor\":\"white\",\"linecolor\":\"white\",\"ticks\":\"\"},\"baxis\":{\"gridcolor\":\"white\",\"linecolor\":\"white\",\"ticks\":\"\"},\"caxis\":{\"gridcolor\":\"white\",\"linecolor\":\"white\",\"ticks\":\"\"}},\"coloraxis\":{\"colorbar\":{\"outlinewidth\":0,\"ticks\":\"\"}},\"colorscale\":{\"sequential\":[[0.0,\"#0d0887\"],[0.1111111111111111,\"#46039f\"],[0.2222222222222222,\"#7201a8\"],[0.3333333333333333,\"#9c179e\"],[0.4444444444444444,\"#bd3786\"],[0.5555555555555556,\"#d8576b\"],[0.6666666666666666,\"#ed7953\"],[0.7777777777777778,\"#fb9f3a\"],[0.8888888888888888,\"#fdca26\"],[1.0,\"#f0f921\"]],\"sequentialminus\":[[0.0,\"#0d0887\"],[0.1111111111111111,\"#46039f\"],[0.2222222222222222,\"#7201a8\"],[0.3333333333333333,\"#9c179e\"],[0.4444444444444444,\"#bd3786\"],[0.5555555555555556,\"#d8576b\"],[0.6666666666666666,\"#ed7953\"],[0.7777777777777778,\"#fb9f3a\"],[0.8888888888888888,\"#fdca26\"],[1.0,\"#f0f921\"]],\"diverging\":[[0,\"#8e0152\"],[0.1,\"#c51b7d\"],[0.2,\"#de77ae\"],[0.3,\"#f1b6da\"],[0.4,\"#fde0ef\"],[0.5,\"#f7f7f7\"],[0.6,\"#e6f5d0\"],[0.7,\"#b8e186\"],[0.8,\"#7fbc41\"],[0.9,\"#4d9221\"],[1,\"#276419\"]]},\"xaxis\":{\"gridcolor\":\"white\",\"linecolor\":\"white\",\"ticks\":\"\",\"title\":{\"standoff\":15},\"zerolinecolor\":\"white\",\"automargin\":true,\"zerolinewidth\":2},\"yaxis\":{\"gridcolor\":\"white\",\"linecolor\":\"white\",\"ticks\":\"\",\"title\":{\"standoff\":15},\"zerolinecolor\":\"white\",\"automargin\":true,\"zerolinewidth\":2},\"scene\":{\"xaxis\":{\"backgroundcolor\":\"#E5ECF6\",\"gridcolor\":\"white\",\"linecolor\":\"white\",\"showbackground\":true,\"ticks\":\"\",\"zerolinecolor\":\"white\",\"gridwidth\":2},\"yaxis\":{\"backgroundcolor\":\"#E5ECF6\",\"gridcolor\":\"white\",\"linecolor\":\"white\",\"showbackground\":true,\"ticks\":\"\",\"zerolinecolor\":\"white\",\"gridwidth\":2},\"zaxis\":{\"backgroundcolor\":\"#E5ECF6\",\"gridcolor\":\"white\",\"linecolor\":\"white\",\"showbackground\":true,\"ticks\":\"\",\"zerolinecolor\":\"white\",\"gridwidth\":2}},\"shapedefaults\":{\"line\":{\"color\":\"#2a3f5f\"}},\"annotationdefaults\":{\"arrowcolor\":\"#2a3f5f\",\"arrowhead\":0,\"arrowwidth\":1},\"geo\":{\"bgcolor\":\"white\",\"landcolor\":\"#E5ECF6\",\"subunitcolor\":\"white\",\"showland\":true,\"showlakes\":true,\"lakecolor\":\"white\"},\"title\":{\"x\":0.05},\"mapbox\":{\"style\":\"light\"}}},\"xaxis\":{\"anchor\":\"y\",\"domain\":[0.0,1.0],\"title\":{\"text\":\"Fruits\"}},\"yaxis\":{\"anchor\":\"x\",\"domain\":[0.0,1.0],\"title\":{\"text\":\"Quantity\"}},\"legend\":{\"tracegroupgap\":0},\"title\":{\"text\":\"Fruit Quantity Bar Plot\"},\"barmode\":\"relative\"},                        {\"responsive\": true}                    ).then(function(){\n",
       "                            \n",
       "var gd = document.getElementById('1a06c665-40f6-413c-8737-5650984bbc9e');\n",
       "var x = new MutationObserver(function (mutations, observer) {{\n",
       "        var display = window.getComputedStyle(gd).display;\n",
       "        if (!display || display === 'none') {{\n",
       "            console.log([gd, 'removed!']);\n",
       "            Plotly.purge(gd);\n",
       "            observer.disconnect();\n",
       "        }}\n",
       "}});\n",
       "\n",
       "// Listen for the removal of the full notebook cells\n",
       "var notebookContainer = gd.closest('#notebook-container');\n",
       "if (notebookContainer) {{\n",
       "    x.observe(notebookContainer, {childList: true});\n",
       "}}\n",
       "\n",
       "// Listen for the clearing of the current output cell\n",
       "var outputEl = gd.closest('.output');\n",
       "if (outputEl) {{\n",
       "    x.observe(outputEl, {childList: true});\n",
       "}}\n",
       "\n",
       "                        })                };                });            </script>        </div>"
      ]
     },
     "metadata": {},
     "output_type": "display_data"
    }
   ],
   "source": [
    "# Generate a bar plot using plotly ?\n",
    "import plotly.express as px\n",
    "\n",
    "# Sample data\n",
    "data = {\n",
    "    'Fruits': ['Guava', 'Bananas', 'Mango', 'Apple'],\n",
    "    'Quantity': [30, 45, 15, 10]\n",
    "}\n",
    "\n",
    "# Create bar chart\n",
    "fig = px.bar(data, x='Fruits', y='Quantity', title='Fruit Quantity Bar Plot')\n",
    "\n",
    "# Show the plot\n",
    "fig.show()\n",
    "\n"
   ]
  },
  {
   "cell_type": "code",
   "execution_count": 13,
   "id": "5d88d963-a1c5-4f30-bbd6-3c665175da90",
   "metadata": {},
   "outputs": [
    {
     "name": "stdout",
     "output_type": "stream",
     "text": [
      "      Name  Score Grade\n",
      "0    Alice     85     B\n",
      "1      Bob     92     A\n",
      "2  Charlie     76     C\n",
      "3    David     64     D\n"
     ]
    }
   ],
   "source": [
    "# Create a dataframe and add a new column based  on an existing column .\n",
    "import pandas as pd\n",
    "\n",
    "# Step 1: Create a sample DataFrame\n",
    "data = {\n",
    "    'Name': ['Alice', 'Bob', 'Charlie', 'David'],\n",
    "    'Score': [85, 92, 76, 64]\n",
    "}\n",
    "\n",
    "df = pd.DataFrame(data)\n",
    "\n",
    "# Step 2: Add a new column 'Grade' based on the 'Score'\n",
    "def get_grade(score):\n",
    "    if score >= 90:\n",
    "        return 'A'\n",
    "    elif score >= 80:\n",
    "        return 'B'\n",
    "    elif score >= 70:\n",
    "        return 'C'\n",
    "    else:\n",
    "        return 'D'\n",
    "\n",
    "df['Grade'] = df['Score'].apply(get_grade)\n",
    "\n",
    "# Step 3: Display the updated DataFrame\n",
    "print(df)\n"
   ]
  },
  {
   "cell_type": "code",
   "execution_count": 15,
   "id": "c70327f8-0536-46a0-aa1d-8751dccce93b",
   "metadata": {},
   "outputs": [
    {
     "name": "stdout",
     "output_type": "stream",
     "text": [
      "Element-wise Multiplication: [ 5 12 21 32]\n"
     ]
    }
   ],
   "source": [
    "# Write a program to perform element - wise multiplication of two numpy arrays .\n",
    "\n",
    "import numpy as np\n",
    "\n",
    "# Step 1: Create two NumPy arrays\n",
    "array1 = np.array([1, 2, 3, 4])\n",
    "array2 = np.array([5, 6, 7, 8])\n",
    "\n",
    "# Step 2: Perform element-wise multiplication\n",
    "result = array1 * array2\n",
    "\n",
    "# Step 3: Print the result\n",
    "print(\"Element-wise Multiplication:\", result)\n"
   ]
  },
  {
   "cell_type": "code",
   "execution_count": 16,
   "id": "061a46f1-369f-430d-9a2d-62f79fe8846c",
   "metadata": {},
   "outputs": [
    {
     "data": {
      "image/png": "[encoded data removed]",
      "text/plain": [
       "<Figure size 640x480 with 1 Axes>"
      ]
     },
     "metadata": {},
     "output_type": "display_data"
    }
   ],
   "source": [
    "# Create a line plot with multiple lines using matplotlib .\n",
    "import matplotlib.pyplot as plt \n",
    "\n",
    "x = [1,2,3,4,5]\n",
    "\n",
    "y1 = [2, 3, 5, 7, 11]\n",
    "y2 = [1, 4, 6, 8, 10]\n",
    "y3 = [5, 6, 2, 3, 4]\n",
    "\n",
    "# Plot multiple lines\n",
    "plt.plot(x, y1, label='Line 1', marker='o')\n",
    "plt.plot(x, y2, label='Line 2', marker='s')\n",
    "plt.plot(x, y3, label='Line 3', marker='^')\n",
    "\n",
    "# Add labels and title\n",
    "plt.xlabel('X Axis')\n",
    "plt.ylabel('Y Axis')\n",
    "plt.title('Multiple Line Plot')\n",
    "\n",
    "# Add legend\n",
    "plt.legend()\n",
    "\n",
    "# Show the plot\n",
    "plt.show()\n"
   ]
  },
  {
   "cell_type": "code",
   "execution_count": 17,
   "id": "cd609cf7-5d92-4134-bad7-9c7cb8c95489",
   "metadata": {},
   "outputs": [
    {
     "name": "stdout",
     "output_type": "stream",
     "text": [
      "\n",
      "Filtered DataFrame (Score > 75):\n",
      "       Name  Score\n",
      "0    Alice     85\n",
      "2  Charlie     77\n",
      "3    David     90\n"
     ]
    }
   ],
   "source": [
    "# Generate a pandas dataframe and filter rows where a column value is greater than a threshold . \n",
    "import pandas as pd\n",
    "\n",
    "# Step 1: Create a sample DataFrame\n",
    "data = {\n",
    "    'Name': ['Alice', 'Bob', 'Charlie', 'David'],\n",
    "    'Score': [85, 42, 77, 90]\n",
    "}\n",
    "\n",
    "df = pd.DataFrame(data)\n",
    "\n",
    "# Step 2: Define a threshold\n",
    "threshold = 75\n",
    "\n",
    "# Step 3: Filter rows where 'Score' > threshold\n",
    "filtered_df = df[df['Score'] > threshold]\n",
    "\n",
    "# Step 4: Print the result\n",
    "print(\"\\nFiltered DataFrame (Score > 75):\\n\", filtered_df)\n"
   ]
  },
  {
   "cell_type": "code",
   "execution_count": 21,
   "id": "f51f4a76-d490-4c0f-9f6f-976aeee2cb96",
   "metadata": {},
   "outputs": [
    {
     "data": {
      "image/png": "[encoded data removed]",
      "text/plain": [
       "<Figure size 640x480 with 1 Axes>"
      ]
     },
     "metadata": {},
     "output_type": "display_data"
    }
   ],
   "source": [
    "# Create a histogram using seaborn to visualize a distribution . \n",
    "import seaborn as sns\n",
    "import matplotlib.pyplot as plt\n",
    "\n",
    "# Sample data\n",
    "data = [12, 15, 13, 18, 19, 22, 21, 18, 17, 16, 20, 19, 23, 24, 18, 17]\n",
    "\n",
    "# Create a histogram\n",
    "sns.histplot(data, bins=8, kde=True, color='skyblue')\n",
    "\n",
    "# Add labels and title\n",
    "plt.xlabel(\"Value\")\n",
    "plt.ylabel(\"Frequency\")\n",
    "plt.title(\"Histogram of Sample Data\")\n",
    "\n",
    "# Show the plot\n",
    "plt.show()\n"
   ]
  },
  {
   "cell_type": "code",
   "execution_count": 23,
   "id": "1c50bb30-a928-4639-85b2-bf938cd8c1cf",
   "metadata": {},
   "outputs": [
    {
     "name": "stdout",
     "output_type": "stream",
     "text": [
      "Matrix Multiplication Result (A @ B):\n",
      " [[19 22]\n",
      " [43 50]]\n"
     ]
    }
   ],
   "source": [
    "# Perfrom matrix multiplication using numpy .\n",
    "import numpy as np\n",
    "\n",
    "# Define two 2D matrices\n",
    "A = np.array([[1, 2],\n",
    "              [3, 4]])\n",
    "\n",
    "B = np.array([[5, 6],\n",
    "              [7, 8]])\n",
    "\n",
    "# Matrix multiplication using @ operator or np.dot()\n",
    "result = A @ B  # or np.dot(A, B)\n",
    "\n",
    "# Display the result\n",
    "print(\"Matrix Multiplication Result (A @ B):\\n\", result)\n",
    "\n"
   ]
  },
  {
   "cell_type": "code",
   "execution_count": 25,
   "id": "df7b05f1-c43b-44ad-8717-e0cf0255974b",
   "metadata": {},
   "outputs": [
    {
     "name": "stdout",
     "output_type": "stream",
     "text": [
      "                        Industry\n",
      "0             Accounting/Finance\n",
      "1   Advertising/Public Relations\n",
      "2             Aerospace/Aviation\n",
      "3  Arts/Entertainment/Publishing\n",
      "4                     Automotive\n"
     ]
    }
   ],
   "source": [
    "# USE PANDAS TO LOAD A CSV FILES AND DISPLAY ITS FIRST 5 ROWS .\n",
    "import pandas as pd\n",
    "\n",
    "# Load the CSV file\n",
    "df = pd.read_csv('industry.csv')  \n",
    "\n",
    "# Display the first 5 rows\n",
    "print(df.head())\n"
   ]
  },
  {
   "cell_type": "code",
   "execution_count": 26,
   "id": "f2a1bc62-0ff8-4291-a761-30f969a32450",
   "metadata": {},
   "outputs": [
    {
     "data": {
      "application/vnd.plotly.v1+json": {
       "config": {
        "plotlyServerURL": "https://plot.ly"
       },
       "data": [
        {
         "hovertemplate": "Label=A<br>X=%{x}<br>Y=%{y}<br>Z=%{z}<extra></extra>",
         "legendgroup": "A",
         "marker": {
          "color": "#636efa",
          "symbol": "circle"
         },
         "mode": "markers",
         "name": "A",
         "scene": "scene",
         "showlegend": true,
         "type": "scatter3d",
         "x": [
          1
         ],
         "y": [
          10
         ],
         "z": [
          5
         ]
        },
        {
         "hovertemplate": "Label=B<br>X=%{x}<br>Y=%{y}<br>Z=%{z}<extra></extra>",
         "legendgroup": "B",
         "marker": {
          "color": "#EF553B",
          "symbol": "circle"
         },
         "mode": "markers",
         "name": "B",
         "scene": "scene",
         "showlegend": true,
         "type": "scatter3d",
         "x": [
          2
         ],
         "y": [
          11
         ],
         "z": [
          3
         ]
        },
        {
         "hovertemplate": "Label=C<br>X=%{x}<br>Y=%{y}<br>Z=%{z}<extra></extra>",
         "legendgroup": "C",
         "marker": {
          "color": "#00cc96",
          "symbol": "circle"
         },
         "mode": "markers",
         "name": "C",
         "scene": "scene",
         "showlegend": true,
         "type": "scatter3d",
         "x": [
          3
         ],
         "y": [
          12
         ],
         "z": [
          6
         ]
        },
        {
         "hovertemplate": "Label=D<br>X=%{x}<br>Y=%{y}<br>Z=%{z}<extra></extra>",
         "legendgroup": "D",
         "marker": {
          "color": "#ab63fa",
          "symbol": "circle"
         },
         "mode": "markers",
         "name": "D",
         "scene": "scene",
         "showlegend": true,
         "type": "scatter3d",
         "x": [
          4
         ],
         "y": [
          13
         ],
         "z": [
          2
         ]
        },
        {
         "hovertemplate": "Label=E<br>X=%{x}<br>Y=%{y}<br>Z=%{z}<extra></extra>",
         "legendgroup": "E",
         "marker": {
          "color": "#FFA15A",
          "symbol": "circle"
         },
         "mode": "markers",
         "name": "E",
         "scene": "scene",
         "showlegend": true,
         "type": "scatter3d",
         "x": [
          5
         ],
         "y": [
          14
         ],
         "z": [
          7
         ]
        }
       ],
       "layout": {
        "autosize": true,
        "legend": {
         "title": {
          "text": "Label"
         },
         "tracegroupgap": 0
        },
        "scene": {
         "aspectmode": "auto",
         "aspectratio": {
          "x": 0.9283177667225558,
          "y": 0.9283177667225558,
          "z": 1.1603972084031948
         },
         "camera": {
          "center": {
           "x": 0,
           "y": 0,
           "z": 0
          },
          "eye": {
           "x": 1.1992775398174689,
           "y": 1.1992775398174687,
           "z": 1.1992775398174689
          },
          "projection": {
           "type": "perspective"
          },
          "up": {
           "x": 0,
           "y": 0,
           "z": 1
          }
         },
         "domain": {
          "x": [
           0,
           1
          ],
          "y": [
           0,
           1
          ]
         },
         "xaxis": {
          "title": {
           "text": "X"
          },
          "type": "linear"
         },
         "yaxis": {
          "title": {
           "text": "Y"
          },
          "type": "linear"
         },
         "zaxis": {
          "title": {
           "text": "Z"
          },
          "type": "linear"
         }
        },
        "template": {
         "data": {
          "bar": [
           {
            "error_x": {
             "color": "#2a3f5f"
            },
            "error_y": {
             "color": "#2a3f5f"
            },
            "marker": {
             "line": {
              "color": "#E5ECF6",
              "width": 0.5
             },
             "pattern": {
              "fillmode": "overlay",
              "size": 10,
              "solidity": 0.2
             }
            },
            "type": "bar"
           }
          ],
          "barpolar": [
           {
            "marker": {
             "line": {
              "color": "#E5ECF6",
              "width": 0.5
             },
             "pattern": {
              "fillmode": "overlay",
              "size": 10,
              "solidity": 0.2
             }
            },
            "type": "barpolar"
           }
          ],
          "carpet": [
           {
            "aaxis": {
             "endlinecolor": "#2a3f5f",
             "gridcolor": "white",
             "linecolor": "white",
             "minorgridcolor": "white",
             "startlinecolor": "#2a3f5f"
            },
            "baxis": {
             "endlinecolor": "#2a3f5f",
             "gridcolor": "white",
             "linecolor": "white",
             "minorgridcolor": "white",
             "startlinecolor": "#2a3f5f"
            },
            "type": "carpet"
           }
          ],
          "choropleth": [
           {
            "colorbar": {
             "outlinewidth": 0,
             "ticks": ""
            },
            "type": "choropleth"
           }
          ],
          "contour": [
           {
            "colorbar": {
             "outlinewidth": 0,
             "ticks": ""
            },
            "colorscale": [
             [
              0,
              "#0d0887"
             ],
             [
              0.1111111111111111,
              "#46039f"
             ],
             [
              0.2222222222222222,
              "#7201a8"
             ],
             [
              0.3333333333333333,
              "#9c179e"
             ],
             [
              0.4444444444444444,
              "#bd3786"
             ],
             [
              0.5555555555555556,
              "#d8576b"
             ],
             [
              0.6666666666666666,
              "#ed7953"
             ],
             [
              0.7777777777777778,
              "#fb9f3a"
             ],
             [
              0.8888888888888888,
              "#fdca26"
             ],
             [
              1,
              "#f0f921"
             ]
            ],
            "type": "contour"
           }
          ],
          "contourcarpet": [
           {
            "colorbar": {
             "outlinewidth": 0,
             "ticks": ""
            },
            "type": "contourcarpet"
           }
          ],
          "heatmap": [
           {
            "colorbar": {
             "outlinewidth": 0,
             "ticks": ""
            },
            "colorscale": [
             [
              0,
              "#0d0887"
             ],
             [
              0.1111111111111111,
              "#46039f"
             ],
             [
              0.2222222222222222,
              "#7201a8"
             ],
             [
              0.3333333333333333,
              "#9c179e"
             ],
             [
              0.4444444444444444,
              "#bd3786"
             ],
             [
              0.5555555555555556,
              "#d8576b"
             ],
             [
              0.6666666666666666,
              "#ed7953"
             ],
             [
              0.7777777777777778,
              "#fb9f3a"
             ],
             [
              0.8888888888888888,
              "#fdca26"
             ],
             [
              1,
              "#f0f921"
             ]
            ],
            "type": "heatmap"
           }
          ],
          "heatmapgl": [
           {
            "colorbar": {
             "outlinewidth": 0,
             "ticks": ""
            },
            "colorscale": [
             [
              0,
              "#0d0887"
             ],
             [
              0.1111111111111111,
              "#46039f"
             ],
             [
              0.2222222222222222,
              "#7201a8"
             ],
             [
              0.3333333333333333,
              "#9c179e"
             ],
             [
              0.4444444444444444,
              "#bd3786"
             ],
             [
              0.5555555555555556,
              "#d8576b"
             ],
             [
              0.6666666666666666,
              "#ed7953"
             ],
             [
              0.7777777777777778,
              "#fb9f3a"
             ],
             [
              0.8888888888888888,
              "#fdca26"
             ],
             [
              1,
              "#f0f921"
             ]
            ],
            "type": "heatmapgl"
           }
          ],
          "histogram": [
           {
            "marker": {
             "pattern": {
              "fillmode": "overlay",
              "size": 10,
              "solidity": 0.2
             }
            },
            "type": "histogram"
           }
          ],
          "histogram2d": [
           {
            "colorbar": {
             "outlinewidth": 0,
             "ticks": ""
            },
            "colorscale": [
             [
              0,
              "#0d0887"
             ],
             [
              0.1111111111111111,
              "#46039f"
             ],
             [
              0.2222222222222222,
              "#7201a8"
             ],
             [
              0.3333333333333333,
              "#9c179e"
             ],
             [
              0.4444444444444444,
              "#bd3786"
             ],
             [
              0.5555555555555556,
              "#d8576b"
             ],
             [
              0.6666666666666666,
              "#ed7953"
             ],
             [
              0.7777777777777778,
              "#fb9f3a"
             ],
             [
              0.8888888888888888,
              "#fdca26"
             ],
             [
              1,
              "#f0f921"
             ]
            ],
            "type": "histogram2d"
           }
          ],
          "histogram2dcontour": [
           {
            "colorbar": {
             "outlinewidth": 0,
             "ticks": ""
            },
            "colorscale": [
             [
              0,
              "#0d0887"
             ],
             [
              0.1111111111111111,
              "#46039f"
             ],
             [
              0.2222222222222222,
              "#7201a8"
             ],
             [
              0.3333333333333333,
              "#9c179e"
             ],
             [
              0.4444444444444444,
              "#bd3786"
             ],
             [
              0.5555555555555556,
              "#d8576b"
             ],
             [
              0.6666666666666666,
              "#ed7953"
             ],
             [
              0.7777777777777778,
              "#fb9f3a"
             ],
             [
              0.8888888888888888,
              "#fdca26"
             ],
             [
              1,
              "#f0f921"
             ]
            ],
            "type": "histogram2dcontour"
           }
          ],
          "mesh3d": [
           {
            "colorbar": {
             "outlinewidth": 0,
             "ticks": ""
            },
            "type": "mesh3d"
           }
          ],
          "parcoords": [
           {
            "line": {
             "colorbar": {
              "outlinewidth": 0,
              "ticks": ""
             }
            },
            "type": "parcoords"
           }
          ],
          "pie": [
           {
            "automargin": true,
            "type": "pie"
           }
          ],
          "scatter": [
           {
            "fillpattern": {
             "fillmode": "overlay",
             "size": 10,
             "solidity": 0.2
            },
            "type": "scatter"
           }
          ],
          "scatter3d": [
           {
            "line": {
             "colorbar": {
              "outlinewidth": 0,
              "ticks": ""
             }
            },
            "marker": {
             "colorbar": {
              "outlinewidth": 0,
              "ticks": ""
             }
            },
            "type": "scatter3d"
           }
          ],
          "scattercarpet": [
           {
            "marker": {
             "colorbar": {
              "outlinewidth": 0,
              "ticks": ""
             }
            },
            "type": "scattercarpet"
           }
          ],
          "scattergeo": [
           {
            "marker": {
             "colorbar": {
              "outlinewidth": 0,
              "ticks": ""
             }
            },
            "type": "scattergeo"
           }
          ],
          "scattergl": [
           {
            "marker": {
             "colorbar": {
              "outlinewidth": 0,
              "ticks": ""
             }
            },
            "type": "scattergl"
           }
          ],
          "scattermapbox": [
           {
            "marker": {
             "colorbar": {
              "outlinewidth": 0,
              "ticks": ""
             }
            },
            "type": "scattermapbox"
           }
          ],
          "scatterpolar": [
           {
            "marker": {
             "colorbar": {
              "outlinewidth": 0,
              "ticks": ""
             }
            },
            "type": "scatterpolar"
           }
          ],
          "scatterpolargl": [
           {
            "marker": {
             "colorbar": {
              "outlinewidth": 0,
              "ticks": ""
             }
            },
            "type": "scatterpolargl"
           }
          ],
          "scatterternary": [
           {
            "marker": {
             "colorbar": {
              "outlinewidth": 0,
              "ticks": ""
             }
            },
            "type": "scatterternary"
           }
          ],
          "surface": [
           {
            "colorbar": {
             "outlinewidth": 0,
             "ticks": ""
            },
            "colorscale": [
             [
              0,
              "#0d0887"
             ],
             [
              0.1111111111111111,
              "#46039f"
             ],
             [
              0.2222222222222222,
              "#7201a8"
             ],
             [
              0.3333333333333333,
              "#9c179e"
             ],
             [
              0.4444444444444444,
              "#bd3786"
             ],
             [
              0.5555555555555556,
              "#d8576b"
             ],
             [
              0.6666666666666666,
              "#ed7953"
             ],
             [
              0.7777777777777778,
              "#fb9f3a"
             ],
             [
              0.8888888888888888,
              "#fdca26"
             ],
             [
              1,
              "#f0f921"
             ]
            ],
            "type": "surface"
           }
          ],
          "table": [
           {
            "cells": {
             "fill": {
              "color": "#EBF0F8"
             },
             "line": {
              "color": "white"
             }
            },
            "header": {
             "fill": {
              "color": "#C8D4E3"
             },
             "line": {
              "color": "white"
             }
            },
            "type": "table"
           }
          ]
         },
         "layout": {
          "annotationdefaults": {
           "arrowcolor": "#2a3f5f",
           "arrowhead": 0,
           "arrowwidth": 1
          },
          "autotypenumbers": "strict",
          "coloraxis": {
           "colorbar": {
            "outlinewidth": 0,
            "ticks": ""
           }
          },
          "colorscale": {
           "diverging": [
            [
             0,
             "#8e0152"
            ],
            [
             0.1,
             "#c51b7d"
            ],
            [
             0.2,
             "#de77ae"
            ],
            [
             0.3,
             "#f1b6da"
            ],
            [
             0.4,
             "#fde0ef"
            ],
            [
             0.5,
             "#f7f7f7"
            ],
            [
             0.6,
             "#e6f5d0"
            ],
            [
             0.7,
             "#b8e186"
            ],
            [
             0.8,
             "#7fbc41"
            ],
            [
             0.9,
             "#4d9221"
            ],
            [
             1,
             "#276419"
            ]
           ],
           "sequential": [
            [
             0,
             "#0d0887"
            ],
            [
             0.1111111111111111,
             "#46039f"
            ],
            [
             0.2222222222222222,
             "#7201a8"
            ],
            [
             0.3333333333333333,
             "#9c179e"
            ],
            [
             0.4444444444444444,
             "#bd3786"
            ],
            [
             0.5555555555555556,
             "#d8576b"
            ],
            [
             0.6666666666666666,
             "#ed7953"
            ],
            [
             0.7777777777777778,
             "#fb9f3a"
            ],
            [
             0.8888888888888888,
             "#fdca26"
            ],
            [
             1,
             "#f0f921"
            ]
           ],
           "sequentialminus": [
            [
             0,
             "#0d0887"
            ],
            [
             0.1111111111111111,
             "#46039f"
            ],
            [
             0.2222222222222222,
             "#7201a8"
            ],
            [
             0.3333333333333333,
             "#9c179e"
            ],
            [
             0.4444444444444444,
             "#bd3786"
            ],
            [
             0.5555555555555556,
             "#d8576b"
            ],
            [
             0.6666666666666666,
             "#ed7953"
            ],
            [
             0.7777777777777778,
             "#fb9f3a"
            ],
            [
             0.8888888888888888,
             "#fdca26"
            ],
            [
             1,
             "#f0f921"
            ]
           ]
          },
          "colorway": [
           "#636efa",
           "#EF553B",
           "#00cc96",
           "#ab63fa",
           "#FFA15A",
           "#19d3f3",
           "#FF6692",
           "#B6E880",
           "#FF97FF",
           "#FECB52"
          ],
          "font": {
           "color": "#2a3f5f"
          },
          "geo": {
           "bgcolor": "white",
           "lakecolor": "white",
           "landcolor": "#E5ECF6",
           "showlakes": true,
           "showland": true,
           "subunitcolor": "white"
          },
          "hoverlabel": {
           "align": "left"
          },
          "hovermode": "closest",
          "mapbox": {
           "style": "light"
          },
          "paper_bgcolor": "white",
          "plot_bgcolor": "#E5ECF6",
          "polar": {
           "angularaxis": {
            "gridcolor": "white",
            "linecolor": "white",
            "ticks": ""
           },
           "bgcolor": "#E5ECF6",
           "radialaxis": {
            "gridcolor": "white",
            "linecolor": "white",
            "ticks": ""
           }
          },
          "scene": {
           "xaxis": {
            "backgroundcolor": "#E5ECF6",
            "gridcolor": "white",
            "gridwidth": 2,
            "linecolor": "white",
            "showbackground": true,
            "ticks": "",
            "zerolinecolor": "white"
           },
           "yaxis": {
            "backgroundcolor": "#E5ECF6",
            "gridcolor": "white",
            "gridwidth": 2,
            "linecolor": "white",
            "showbackground": true,
            "ticks": "",
            "zerolinecolor": "white"
           },
           "zaxis": {
            "backgroundcolor": "#E5ECF6",
            "gridcolor": "white",
            "gridwidth": 2,
            "linecolor": "white",
            "showbackground": true,
            "ticks": "",
            "zerolinecolor": "white"
           }
          },
          "shapedefaults": {
           "line": {
            "color": "#2a3f5f"
           }
          },
          "ternary": {
           "aaxis": {
            "gridcolor": "white",
            "linecolor": "white",
            "ticks": ""
           },
           "baxis": {
            "gridcolor": "white",
            "linecolor": "white",
            "ticks": ""
           },
           "bgcolor": "#E5ECF6",
           "caxis": {
            "gridcolor": "white",
            "linecolor": "white",
            "ticks": ""
           }
          },
          "title": {
           "x": 0.05
          },
          "xaxis": {
           "automargin": true,
           "gridcolor": "white",
           "linecolor": "white",
           "ticks": "",
           "title": {
            "standoff": 15
           },
           "zerolinecolor": "white",
           "zerolinewidth": 2
          },
          "yaxis": {
           "automargin": true,
           "gridcolor": "white",
           "linecolor": "white",
           "ticks": "",
           "title": {
            "standoff": 15
           },
           "zerolinecolor": "white",
           "zerolinewidth": 2
          }
         }
        },
        "title": {
         "text": "3D Scatter Plot"
        }
       }
      },
      "image/png": "[encoded data removed]",
      "text/html": [
       "<div>                            <div id=\"d99cd561-b0e8-4dc2-b581-5804a4ff7ec5\" class=\"plotly-graph-div\" style=\"height:525px; width:100%;\"></div>            <script type=\"text/javascript\">                require([\"plotly\"], function(Plotly) {                    window.PLOTLYENV=window.PLOTLYENV || {};                                    if (document.getElementById(\"d99cd561-b0e8-4dc2-b581-5804a4ff7ec5\")) {                    Plotly.newPlot(                        \"d99cd561-b0e8-4dc2-b581-5804a4ff7ec5\",                        [{\"hovertemplate\":\"Label=A\\u003cbr\\u003eX=%{x}\\u003cbr\\u003eY=%{y}\\u003cbr\\u003eZ=%{z}\\u003cextra\\u003e\\u003c\\u002fextra\\u003e\",\"legendgroup\":\"A\",\"marker\":{\"color\":\"#636efa\",\"symbol\":\"circle\"},\"mode\":\"markers\",\"name\":\"A\",\"scene\":\"scene\",\"showlegend\":true,\"x\":[1],\"y\":[10],\"z\":[5],\"type\":\"scatter3d\"},{\"hovertemplate\":\"Label=B\\u003cbr\\u003eX=%{x}\\u003cbr\\u003eY=%{y}\\u003cbr\\u003eZ=%{z}\\u003cextra\\u003e\\u003c\\u002fextra\\u003e\",\"legendgroup\":\"B\",\"marker\":{\"color\":\"#EF553B\",\"symbol\":\"circle\"},\"mode\":\"markers\",\"name\":\"B\",\"scene\":\"scene\",\"showlegend\":true,\"x\":[2],\"y\":[11],\"z\":[3],\"type\":\"scatter3d\"},{\"hovertemplate\":\"Label=C\\u003cbr\\u003eX=%{x}\\u003cbr\\u003eY=%{y}\\u003cbr\\u003eZ=%{z}\\u003cextra\\u003e\\u003c\\u002fextra\\u003e\",\"legendgroup\":\"C\",\"marker\":{\"color\":\"#00cc96\",\"symbol\":\"circle\"},\"mode\":\"markers\",\"name\":\"C\",\"scene\":\"scene\",\"showlegend\":true,\"x\":[3],\"y\":[12],\"z\":[6],\"type\":\"scatter3d\"},{\"hovertemplate\":\"Label=D\\u003cbr\\u003eX=%{x}\\u003cbr\\u003eY=%{y}\\u003cbr\\u003eZ=%{z}\\u003cextra\\u003e\\u003c\\u002fextra\\u003e\",\"legendgroup\":\"D\",\"marker\":{\"color\":\"#ab63fa\",\"symbol\":\"circle\"},\"mode\":\"markers\",\"name\":\"D\",\"scene\":\"scene\",\"showlegend\":true,\"x\":[4],\"y\":[13],\"z\":[2],\"type\":\"scatter3d\"},{\"hovertemplate\":\"Label=E\\u003cbr\\u003eX=%{x}\\u003cbr\\u003eY=%{y}\\u003cbr\\u003eZ=%{z}\\u003cextra\\u003e\\u003c\\u002fextra\\u003e\",\"legendgroup\":\"E\",\"marker\":{\"color\":\"#FFA15A\",\"symbol\":\"circle\"},\"mode\":\"markers\",\"name\":\"E\",\"scene\":\"scene\",\"showlegend\":true,\"x\":[5],\"y\":[14],\"z\":[7],\"type\":\"scatter3d\"}],                        {\"template\":{\"data\":{\"histogram2dcontour\":[{\"type\":\"histogram2dcontour\",\"colorbar\":{\"outlinewidth\":0,\"ticks\":\"\"},\"colorscale\":[[0.0,\"#0d0887\"],[0.1111111111111111,\"#46039f\"],[0.2222222222222222,\"#7201a8\"],[0.3333333333333333,\"#9c179e\"],[0.4444444444444444,\"#bd3786\"],[0.5555555555555556,\"#d8576b\"],[0.6666666666666666,\"#ed7953\"],[0.7777777777777778,\"#fb9f3a\"],[0.8888888888888888,\"#fdca26\"],[1.0,\"#f0f921\"]]}],\"choropleth\":[{\"type\":\"choropleth\",\"colorbar\":{\"outlinewidth\":0,\"ticks\":\"\"}}],\"histogram2d\":[{\"type\":\"histogram2d\",\"colorbar\":{\"outlinewidth\":0,\"ticks\":\"\"},\"colorscale\":[[0.0,\"#0d0887\"],[0.1111111111111111,\"#46039f\"],[0.2222222222222222,\"#7201a8\"],[0.3333333333333333,\"#9c179e\"],[0.4444444444444444,\"#bd3786\"],[0.5555555555555556,\"#d8576b\"],[0.6666666666666666,\"#ed7953\"],[0.7777777777777778,\"#fb9f3a\"],[0.8888888888888888,\"#fdca26\"],[1.0,\"#f0f921\"]]}],\"heatmap\":[{\"type\":\"heatmap\",\"colorbar\":{\"outlinewidth\":0,\"ticks\":\"\"},\"colorscale\":[[0.0,\"#0d0887\"],[0.1111111111111111,\"#46039f\"],[0.2222222222222222,\"#7201a8\"],[0.3333333333333333,\"#9c179e\"],[0.4444444444444444,\"#bd3786\"],[0.5555555555555556,\"#d8576b\"],[0.6666666666666666,\"#ed7953\"],[0.7777777777777778,\"#fb9f3a\"],[0.8888888888888888,\"#fdca26\"],[1.0,\"#f0f921\"]]}],\"heatmapgl\":[{\"type\":\"heatmapgl\",\"colorbar\":{\"outlinewidth\":0,\"ticks\":\"\"},\"colorscale\":[[0.0,\"#0d0887\"],[0.1111111111111111,\"#46039f\"],[0.2222222222222222,\"#7201a8\"],[0.3333333333333333,\"#9c179e\"],[0.4444444444444444,\"#bd3786\"],[0.5555555555555556,\"#d8576b\"],[0.6666666666666666,\"#ed7953\"],[0.7777777777777778,\"#fb9f3a\"],[0.8888888888888888,\"#fdca26\"],[1.0,\"#f0f921\"]]}],\"contourcarpet\":[{\"type\":\"contourcarpet\",\"colorbar\":{\"outlinewidth\":0,\"ticks\":\"\"}}],\"contour\":[{\"type\":\"contour\",\"colorbar\":{\"outlinewidth\":0,\"ticks\":\"\"},\"colorscale\":[[0.0,\"#0d0887\"],[0.1111111111111111,\"#46039f\"],[0.2222222222222222,\"#7201a8\"],[0.3333333333333333,\"#9c179e\"],[0.4444444444444444,\"#bd3786\"],[0.5555555555555556,\"#d8576b\"],[0.6666666666666666,\"#ed7953\"],[0.7777777777777778,\"#fb9f3a\"],[0.8888888888888888,\"#fdca26\"],[1.0,\"#f0f921\"]]}],\"surface\":[{\"type\":\"surface\",\"colorbar\":{\"outlinewidth\":0,\"ticks\":\"\"},\"colorscale\":[[0.0,\"#0d0887\"],[0.1111111111111111,\"#46039f\"],[0.2222222222222222,\"#7201a8\"],[0.3333333333333333,\"#9c179e\"],[0.4444444444444444,\"#bd3786\"],[0.5555555555555556,\"#d8576b\"],[0.6666666666666666,\"#ed7953\"],[0.7777777777777778,\"#fb9f3a\"],[0.8888888888888888,\"#fdca26\"],[1.0,\"#f0f921\"]]}],\"mesh3d\":[{\"type\":\"mesh3d\",\"colorbar\":{\"outlinewidth\":0,\"ticks\":\"\"}}],\"scatter\":[{\"fillpattern\":{\"fillmode\":\"overlay\",\"size\":10,\"solidity\":0.2},\"type\":\"scatter\"}],\"parcoords\":[{\"type\":\"parcoords\",\"line\":{\"colorbar\":{\"outlinewidth\":0,\"ticks\":\"\"}}}],\"scatterpolargl\":[{\"type\":\"scatterpolargl\",\"marker\":{\"colorbar\":{\"outlinewidth\":0,\"ticks\":\"\"}}}],\"bar\":[{\"error_x\":{\"color\":\"#2a3f5f\"},\"error_y\":{\"color\":\"#2a3f5f\"},\"marker\":{\"line\":{\"color\":\"#E5ECF6\",\"width\":0.5},\"pattern\":{\"fillmode\":\"overlay\",\"size\":10,\"solidity\":0.2}},\"type\":\"bar\"}],\"scattergeo\":[{\"type\":\"scattergeo\",\"marker\":{\"colorbar\":{\"outlinewidth\":0,\"ticks\":\"\"}}}],\"scatterpolar\":[{\"type\":\"scatterpolar\",\"marker\":{\"colorbar\":{\"outlinewidth\":0,\"ticks\":\"\"}}}],\"histogram\":[{\"marker\":{\"pattern\":{\"fillmode\":\"overlay\",\"size\":10,\"solidity\":0.2}},\"type\":\"histogram\"}],\"scattergl\":[{\"type\":\"scattergl\",\"marker\":{\"colorbar\":{\"outlinewidth\":0,\"ticks\":\"\"}}}],\"scatter3d\":[{\"type\":\"scatter3d\",\"line\":{\"colorbar\":{\"outlinewidth\":0,\"ticks\":\"\"}},\"marker\":{\"colorbar\":{\"outlinewidth\":0,\"ticks\":\"\"}}}],\"scattermapbox\":[{\"type\":\"scattermapbox\",\"marker\":{\"colorbar\":{\"outlinewidth\":0,\"ticks\":\"\"}}}],\"scatterternary\":[{\"type\":\"scatterternary\",\"marker\":{\"colorbar\":{\"outlinewidth\":0,\"ticks\":\"\"}}}],\"scattercarpet\":[{\"type\":\"scattercarpet\",\"marker\":{\"colorbar\":{\"outlinewidth\":0,\"ticks\":\"\"}}}],\"carpet\":[{\"aaxis\":{\"endlinecolor\":\"#2a3f5f\",\"gridcolor\":\"white\",\"linecolor\":\"white\",\"minorgridcolor\":\"white\",\"startlinecolor\":\"#2a3f5f\"},\"baxis\":{\"endlinecolor\":\"#2a3f5f\",\"gridcolor\":\"white\",\"linecolor\":\"white\",\"minorgridcolor\":\"white\",\"startlinecolor\":\"#2a3f5f\"},\"type\":\"carpet\"}],\"table\":[{\"cells\":{\"fill\":{\"color\":\"#EBF0F8\"},\"line\":{\"color\":\"white\"}},\"header\":{\"fill\":{\"color\":\"#C8D4E3\"},\"line\":{\"color\":\"white\"}},\"type\":\"table\"}],\"barpolar\":[{\"marker\":{\"line\":{\"color\":\"#E5ECF6\",\"width\":0.5},\"pattern\":{\"fillmode\":\"overlay\",\"size\":10,\"solidity\":0.2}},\"type\":\"barpolar\"}],\"pie\":[{\"automargin\":true,\"type\":\"pie\"}]},\"layout\":{\"autotypenumbers\":\"strict\",\"colorway\":[\"#636efa\",\"#EF553B\",\"#00cc96\",\"#ab63fa\",\"#FFA15A\",\"#19d3f3\",\"#FF6692\",\"#B6E880\",\"#FF97FF\",\"#FECB52\"],\"font\":{\"color\":\"#2a3f5f\"},\"hovermode\":\"closest\",\"hoverlabel\":{\"align\":\"left\"},\"paper_bgcolor\":\"white\",\"plot_bgcolor\":\"#E5ECF6\",\"polar\":{\"bgcolor\":\"#E5ECF6\",\"angularaxis\":{\"gridcolor\":\"white\",\"linecolor\":\"white\",\"ticks\":\"\"},\"radialaxis\":{\"gridcolor\":\"white\",\"linecolor\":\"white\",\"ticks\":\"\"}},\"ternary\":{\"bgcolor\":\"#E5ECF6\",\"aaxis\":{\"gridcolor\":\"white\",\"linecolor\":\"white\",\"ticks\":\"\"},\"baxis\":{\"gridcolor\":\"white\",\"linecolor\":\"white\",\"ticks\":\"\"},\"caxis\":{\"gridcolor\":\"white\",\"linecolor\":\"white\",\"ticks\":\"\"}},\"coloraxis\":{\"colorbar\":{\"outlinewidth\":0,\"ticks\":\"\"}},\"colorscale\":{\"sequential\":[[0.0,\"#0d0887\"],[0.1111111111111111,\"#46039f\"],[0.2222222222222222,\"#7201a8\"],[0.3333333333333333,\"#9c179e\"],[0.4444444444444444,\"#bd3786\"],[0.5555555555555556,\"#d8576b\"],[0.6666666666666666,\"#ed7953\"],[0.7777777777777778,\"#fb9f3a\"],[0.8888888888888888,\"#fdca26\"],[1.0,\"#f0f921\"]],\"sequentialminus\":[[0.0,\"#0d0887\"],[0.1111111111111111,\"#46039f\"],[0.2222222222222222,\"#7201a8\"],[0.3333333333333333,\"#9c179e\"],[0.4444444444444444,\"#bd3786\"],[0.5555555555555556,\"#d8576b\"],[0.6666666666666666,\"#ed7953\"],[0.7777777777777778,\"#fb9f3a\"],[0.8888888888888888,\"#fdca26\"],[1.0,\"#f0f921\"]],\"diverging\":[[0,\"#8e0152\"],[0.1,\"#c51b7d\"],[0.2,\"#de77ae\"],[0.3,\"#f1b6da\"],[0.4,\"#fde0ef\"],[0.5,\"#f7f7f7\"],[0.6,\"#e6f5d0\"],[0.7,\"#b8e186\"],[0.8,\"#7fbc41\"],[0.9,\"#4d9221\"],[1,\"#276419\"]]},\"xaxis\":{\"gridcolor\":\"white\",\"linecolor\":\"white\",\"ticks\":\"\",\"title\":{\"standoff\":15},\"zerolinecolor\":\"white\",\"automargin\":true,\"zerolinewidth\":2},\"yaxis\":{\"gridcolor\":\"white\",\"linecolor\":\"white\",\"ticks\":\"\",\"title\":{\"standoff\":15},\"zerolinecolor\":\"white\",\"automargin\":true,\"zerolinewidth\":2},\"scene\":{\"xaxis\":{\"backgroundcolor\":\"#E5ECF6\",\"gridcolor\":\"white\",\"linecolor\":\"white\",\"showbackground\":true,\"ticks\":\"\",\"zerolinecolor\":\"white\",\"gridwidth\":2},\"yaxis\":{\"backgroundcolor\":\"#E5ECF6\",\"gridcolor\":\"white\",\"linecolor\":\"white\",\"showbackground\":true,\"ticks\":\"\",\"zerolinecolor\":\"white\",\"gridwidth\":2},\"zaxis\":{\"backgroundcolor\":\"#E5ECF6\",\"gridcolor\":\"white\",\"linecolor\":\"white\",\"showbackground\":true,\"ticks\":\"\",\"zerolinecolor\":\"white\",\"gridwidth\":2}},\"shapedefaults\":{\"line\":{\"color\":\"#2a3f5f\"}},\"annotationdefaults\":{\"arrowcolor\":\"#2a3f5f\",\"arrowhead\":0,\"arrowwidth\":1},\"geo\":{\"bgcolor\":\"white\",\"landcolor\":\"#E5ECF6\",\"subunitcolor\":\"white\",\"showland\":true,\"showlakes\":true,\"lakecolor\":\"white\"},\"title\":{\"x\":0.05},\"mapbox\":{\"style\":\"light\"}}},\"scene\":{\"domain\":{\"x\":[0.0,1.0],\"y\":[0.0,1.0]},\"xaxis\":{\"title\":{\"text\":\"X\"}},\"yaxis\":{\"title\":{\"text\":\"Y\"}},\"zaxis\":{\"title\":{\"text\":\"Z\"}}},\"legend\":{\"title\":{\"text\":\"Label\"},\"tracegroupgap\":0},\"title\":{\"text\":\"3D Scatter Plot\"}},                        {\"responsive\": true}                    ).then(function(){\n",
       "                            \n",
       "var gd = document.getElementById('d99cd561-b0e8-4dc2-b581-5804a4ff7ec5');\n",
       "var x = new MutationObserver(function (mutations, observer) {{\n",
       "        var display = window.getComputedStyle(gd).display;\n",
       "        if (!display || display === 'none') {{\n",
       "            console.log([gd, 'removed!']);\n",
       "            Plotly.purge(gd);\n",
       "            observer.disconnect();\n",
       "        }}\n",
       "}});\n",
       "\n",
       "// Listen for the removal of the full notebook cells\n",
       "var notebookContainer = gd.closest('#notebook-container');\n",
       "if (notebookContainer) {{\n",
       "    x.observe(notebookContainer, {childList: true});\n",
       "}}\n",
       "\n",
       "// Listen for the clearing of the current output cell\n",
       "var outputEl = gd.closest('.output');\n",
       "if (outputEl) {{\n",
       "    x.observe(outputEl, {childList: true});\n",
       "}}\n",
       "\n",
       "                        })                };                });            </script>        </div>"
      ]
     },
     "metadata": {},
     "output_type": "display_data"
    }
   ],
   "source": [
    "# Create a 3d scatter plot using plotly ?\n",
    "import plotly.express as px\n",
    "import pandas as pd\n",
    "\n",
    "# Sample data\n",
    "data = {\n",
    "    'X': [1, 2, 3, 4, 5],\n",
    "    'Y': [10, 11, 12, 13, 14],\n",
    "    'Z': [5, 3, 6, 2, 7],\n",
    "    'Label': ['A', 'B', 'C', 'D', 'E']\n",
    "}\n",
    "\n",
    "df = pd.DataFrame(data)\n",
    "\n",
    "# Create 3D scatter plot\n",
    "fig = px.scatter_3d(df, x='X', y='Y', z='Z', color='Label', title=\"3D Scatter Plot\")\n",
    "\n",
    "# Show the plot\n",
    "fig.show()\n"
   ]
  }
 ],
 "metadata": {
  "kernelspec": {
   "display_name": "Python 3 (ipykernel)",
   "language": "python",
   "name": "python3"
  },
  "language_info": {
   "codemirror_mode": {
    "name": "ipython",
    "version": 3
   },
   "file_extension": ".py",
   "mimetype": "text/x-python",
   "name": "python",
   "nbconvert_exporter": "python",
   "pygments_lexer": "ipython3",
   "version": "3.12.7"
  }
 },
 "nbformat": 4,
 "nbformat_minor": 5
}
